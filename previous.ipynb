{
 "cells": [
  {
   "cell_type": "code",
   "execution_count": 2,
   "metadata": {},
   "outputs": [],
   "source": [
    "import numpy as np\n",
    "import pandas as pd\n",
    "\n",
    "\n",
    "def create_dataframe(no_of_samples):\n",
    "        nos = no_of_samples\n",
    "        nos = nos+1\n",
    "        cols = [\"Age\", \"Gender\", \"Pincode\", \"Weight\", \"Height\"]\n",
    "        df = pd.DataFrame(index = range(1,nos), columns=cols)\n",
    "        df[\"Age\"] = np.random.randint(0,100,(nos-1,))\n",
    "        df[\"Pincode\"] = np.random.randint(110000,110100,(nos-1,))\n",
    "        df[\"Gender\"] = np.random.randint(0,2,(nos-1,))\n",
    "        df[\"Weight\"] = np.random.randint(20,120,[nos-1,])\n",
    "        df[\"Height\"] = np.random.randint(50,150,[nos-1,]) \n",
    "    \n",
    "        return df"
   ]
  },
  {
   "cell_type": "code",
   "execution_count": 3,
   "metadata": {},
   "outputs": [
    {
     "data": {
      "text/html": [
       "<div>\n",
       "<style scoped>\n",
       "    .dataframe tbody tr th:only-of-type {\n",
       "        vertical-align: middle;\n",
       "    }\n",
       "\n",
       "    .dataframe tbody tr th {\n",
       "        vertical-align: top;\n",
       "    }\n",
       "\n",
       "    .dataframe thead th {\n",
       "        text-align: right;\n",
       "    }\n",
       "</style>\n",
       "<table border=\"1\" class=\"dataframe\">\n",
       "  <thead>\n",
       "    <tr style=\"text-align: right;\">\n",
       "      <th></th>\n",
       "      <th>Age</th>\n",
       "      <th>Gender</th>\n",
       "      <th>Pincode</th>\n",
       "      <th>Weight</th>\n",
       "      <th>Height</th>\n",
       "    </tr>\n",
       "  </thead>\n",
       "  <tbody>\n",
       "    <tr>\n",
       "      <th>1</th>\n",
       "      <td>53</td>\n",
       "      <td>0</td>\n",
       "      <td>110017</td>\n",
       "      <td>62</td>\n",
       "      <td>80</td>\n",
       "    </tr>\n",
       "    <tr>\n",
       "      <th>2</th>\n",
       "      <td>51</td>\n",
       "      <td>0</td>\n",
       "      <td>110068</td>\n",
       "      <td>78</td>\n",
       "      <td>117</td>\n",
       "    </tr>\n",
       "    <tr>\n",
       "      <th>3</th>\n",
       "      <td>55</td>\n",
       "      <td>1</td>\n",
       "      <td>110001</td>\n",
       "      <td>98</td>\n",
       "      <td>142</td>\n",
       "    </tr>\n",
       "    <tr>\n",
       "      <th>4</th>\n",
       "      <td>44</td>\n",
       "      <td>0</td>\n",
       "      <td>110038</td>\n",
       "      <td>96</td>\n",
       "      <td>51</td>\n",
       "    </tr>\n",
       "    <tr>\n",
       "      <th>5</th>\n",
       "      <td>64</td>\n",
       "      <td>0</td>\n",
       "      <td>110060</td>\n",
       "      <td>84</td>\n",
       "      <td>86</td>\n",
       "    </tr>\n",
       "    <tr>\n",
       "      <th>...</th>\n",
       "      <td>...</td>\n",
       "      <td>...</td>\n",
       "      <td>...</td>\n",
       "      <td>...</td>\n",
       "      <td>...</td>\n",
       "    </tr>\n",
       "    <tr>\n",
       "      <th>318</th>\n",
       "      <td>81</td>\n",
       "      <td>1</td>\n",
       "      <td>110087</td>\n",
       "      <td>84</td>\n",
       "      <td>53</td>\n",
       "    </tr>\n",
       "    <tr>\n",
       "      <th>319</th>\n",
       "      <td>89</td>\n",
       "      <td>0</td>\n",
       "      <td>110002</td>\n",
       "      <td>54</td>\n",
       "      <td>51</td>\n",
       "    </tr>\n",
       "    <tr>\n",
       "      <th>320</th>\n",
       "      <td>71</td>\n",
       "      <td>0</td>\n",
       "      <td>110016</td>\n",
       "      <td>76</td>\n",
       "      <td>56</td>\n",
       "    </tr>\n",
       "    <tr>\n",
       "      <th>321</th>\n",
       "      <td>46</td>\n",
       "      <td>1</td>\n",
       "      <td>110059</td>\n",
       "      <td>48</td>\n",
       "      <td>56</td>\n",
       "    </tr>\n",
       "    <tr>\n",
       "      <th>322</th>\n",
       "      <td>42</td>\n",
       "      <td>0</td>\n",
       "      <td>110035</td>\n",
       "      <td>20</td>\n",
       "      <td>115</td>\n",
       "    </tr>\n",
       "  </tbody>\n",
       "</table>\n",
       "<p>322 rows × 5 columns</p>\n",
       "</div>"
      ],
      "text/plain": [
       "     Age  Gender  Pincode  Weight  Height\n",
       "1     53       0   110017      62      80\n",
       "2     51       0   110068      78     117\n",
       "3     55       1   110001      98     142\n",
       "4     44       0   110038      96      51\n",
       "5     64       0   110060      84      86\n",
       "..   ...     ...      ...     ...     ...\n",
       "318   81       1   110087      84      53\n",
       "319   89       0   110002      54      51\n",
       "320   71       0   110016      76      56\n",
       "321   46       1   110059      48      56\n",
       "322   42       0   110035      20     115\n",
       "\n",
       "[322 rows x 5 columns]"
      ]
     },
     "execution_count": 3,
     "metadata": {},
     "output_type": "execute_result"
    }
   ],
   "source": [
    "df  = create_dataframe(322)\n",
    "df"
   ]
  },
  {
   "cell_type": "code",
   "execution_count": 4,
   "metadata": {},
   "outputs": [],
   "source": [
    "df1 = pd.read_csv(\"1045.txt\", delimiter = \"\\t\")"
   ]
  },
  {
   "cell_type": "code",
   "execution_count": 5,
   "metadata": {},
   "outputs": [
    {
     "data": {
      "text/html": [
       "<div>\n",
       "<style scoped>\n",
       "    .dataframe tbody tr th:only-of-type {\n",
       "        vertical-align: middle;\n",
       "    }\n",
       "\n",
       "    .dataframe tbody tr th {\n",
       "        vertical-align: top;\n",
       "    }\n",
       "\n",
       "    .dataframe thead th {\n",
       "        text-align: right;\n",
       "    }\n",
       "</style>\n",
       "<table border=\"1\" class=\"dataframe\">\n",
       "  <thead>\n",
       "    <tr style=\"text-align: right;\">\n",
       "      <th></th>\n",
       "      <th>MeSH Symptom Term</th>\n",
       "      <th>MeSH Disease Term</th>\n",
       "      <th>TFIDF score</th>\n",
       "    </tr>\n",
       "  </thead>\n",
       "  <tbody>\n",
       "    <tr>\n",
       "      <th>0</th>\n",
       "      <td>Aging, Premature</td>\n",
       "      <td>Respiratory Syncytial Virus Infections</td>\n",
       "      <td>3.464551</td>\n",
       "    </tr>\n",
       "    <tr>\n",
       "      <th>1</th>\n",
       "      <td>Aging, Premature</td>\n",
       "      <td>Orthomyxoviridae Infections</td>\n",
       "      <td>3.464551</td>\n",
       "    </tr>\n",
       "    <tr>\n",
       "      <th>2</th>\n",
       "      <td>Aging, Premature</td>\n",
       "      <td>HIV Infections</td>\n",
       "      <td>10.393654</td>\n",
       "    </tr>\n",
       "    <tr>\n",
       "      <th>3</th>\n",
       "      <td>Aging, Premature</td>\n",
       "      <td>Acquired Immunodeficiency Syndrome</td>\n",
       "      <td>10.393654</td>\n",
       "    </tr>\n",
       "    <tr>\n",
       "      <th>4</th>\n",
       "      <td>Aging, Premature</td>\n",
       "      <td>Breast Neoplasms</td>\n",
       "      <td>3.464551</td>\n",
       "    </tr>\n",
       "    <tr>\n",
       "      <th>...</th>\n",
       "      <td>...</td>\n",
       "      <td>...</td>\n",
       "      <td>...</td>\n",
       "    </tr>\n",
       "    <tr>\n",
       "      <th>147973</th>\n",
       "      <td>Hirsutism</td>\n",
       "      <td>Tobacco Use Disorder</td>\n",
       "      <td>2.483722</td>\n",
       "    </tr>\n",
       "    <tr>\n",
       "      <th>147974</th>\n",
       "      <td>Hirsutism</td>\n",
       "      <td>Radius Fractures</td>\n",
       "      <td>2.483722</td>\n",
       "    </tr>\n",
       "    <tr>\n",
       "      <th>147975</th>\n",
       "      <td>Hirsutism</td>\n",
       "      <td>Burns</td>\n",
       "      <td>2.483722</td>\n",
       "    </tr>\n",
       "    <tr>\n",
       "      <th>147976</th>\n",
       "      <td>Hirsutism</td>\n",
       "      <td>Colles' Fracture</td>\n",
       "      <td>2.483722</td>\n",
       "    </tr>\n",
       "    <tr>\n",
       "      <th>147977</th>\n",
       "      <td>Hirsutism</td>\n",
       "      <td>Radiation Injuries</td>\n",
       "      <td>2.483722</td>\n",
       "    </tr>\n",
       "  </tbody>\n",
       "</table>\n",
       "<p>147978 rows × 3 columns</p>\n",
       "</div>"
      ],
      "text/plain": [
       "       MeSH Symptom Term                       MeSH Disease Term  TFIDF score\n",
       "0       Aging, Premature  Respiratory Syncytial Virus Infections     3.464551\n",
       "1       Aging, Premature             Orthomyxoviridae Infections     3.464551\n",
       "2       Aging, Premature                          HIV Infections    10.393654\n",
       "3       Aging, Premature      Acquired Immunodeficiency Syndrome    10.393654\n",
       "4       Aging, Premature                        Breast Neoplasms     3.464551\n",
       "...                  ...                                     ...          ...\n",
       "147973         Hirsutism                    Tobacco Use Disorder     2.483722\n",
       "147974         Hirsutism                        Radius Fractures     2.483722\n",
       "147975         Hirsutism                                   Burns     2.483722\n",
       "147976         Hirsutism                        Colles' Fracture     2.483722\n",
       "147977         Hirsutism                      Radiation Injuries     2.483722\n",
       "\n",
       "[147978 rows x 3 columns]"
      ]
     },
     "execution_count": 5,
     "metadata": {},
     "output_type": "execute_result"
    }
   ],
   "source": [
    "df1.drop('PubMed occurrence',axis=1,inplace=True)\n",
    "df1"
   ]
  },
  {
   "cell_type": "code",
   "execution_count": 7,
   "metadata": {},
   "outputs": [
    {
     "data": {
      "text/plain": [
       "(4219,)"
      ]
     },
     "execution_count": 7,
     "metadata": {},
     "output_type": "execute_result"
    }
   ],
   "source": [
    "df1['MeSH Disease Term'].unique().shape"
   ]
  },
  {
   "cell_type": "code",
   "execution_count": 8,
   "metadata": {},
   "outputs": [
    {
     "data": {
      "text/plain": [
       "(322,)"
      ]
     },
     "execution_count": 8,
     "metadata": {},
     "output_type": "execute_result"
    }
   ],
   "source": [
    "df1['MeSH Symptom Term'].unique().shape"
   ]
  },
  {
   "cell_type": "code",
   "execution_count": 9,
   "metadata": {},
   "outputs": [],
   "source": [
    "import matplotlib.pyplot as plt\n",
    "import seaborn as sns\n",
    "sns.set_style('white')\n",
    "%matplotlib inline"
   ]
  },
  {
   "cell_type": "code",
   "execution_count": 18,
   "metadata": {},
   "outputs": [
    {
     "data": {
      "text/plain": [
       "MeSH Symptom Term\n",
       "Pain                  2593\n",
       "Body Weight           2332\n",
       "Edema                 2238\n",
       "Fever                 2194\n",
       "Seizures              1812\n",
       "Headache              1741\n",
       "Obesity               1731\n",
       "Mental Retardation    1706\n",
       "Vomiting              1662\n",
       "Vision Disorders      1632\n",
       "Name: MeSH Disease Term, dtype: int64"
      ]
     },
     "execution_count": 18,
     "metadata": {},
     "output_type": "execute_result"
    }
   ],
   "source": [
    "df1.groupby('MeSH Symptom Term')['MeSH Disease Term'].count().sort_values(ascending=False).head(10)"
   ]
  },
  {
   "cell_type": "code",
   "execution_count": 28,
   "metadata": {},
   "outputs": [
    {
     "data": {
      "text/html": [
       "<div>\n",
       "<style scoped>\n",
       "    .dataframe tbody tr th:only-of-type {\n",
       "        vertical-align: middle;\n",
       "    }\n",
       "\n",
       "    .dataframe tbody tr th {\n",
       "        vertical-align: top;\n",
       "    }\n",
       "\n",
       "    .dataframe thead th {\n",
       "        text-align: right;\n",
       "    }\n",
       "</style>\n",
       "<table border=\"1\" class=\"dataframe\">\n",
       "  <thead>\n",
       "    <tr style=\"text-align: right;\">\n",
       "      <th>MeSH Symptom Term</th>\n",
       "      <th>Abdomen, Acute</th>\n",
       "      <th>Abdominal Pain</th>\n",
       "      <th>Acute Coronary Syndrome</th>\n",
       "      <th>Aerophagy</th>\n",
       "      <th>Ageusia</th>\n",
       "      <th>Aging, Premature</th>\n",
       "      <th>Agnosia</th>\n",
       "      <th>Agraphia</th>\n",
       "      <th>Akathisia, Drug-Induced</th>\n",
       "      <th>Albuminuria</th>\n",
       "      <th>...</th>\n",
       "      <th>Virilism</th>\n",
       "      <th>Vision Disorders</th>\n",
       "      <th>Vision, Low</th>\n",
       "      <th>Vocal Cord Paralysis</th>\n",
       "      <th>Voice Disorders</th>\n",
       "      <th>Vomiting</th>\n",
       "      <th>Vomiting, Anticipatory</th>\n",
       "      <th>Waterhouse-Friderichsen Syndrome</th>\n",
       "      <th>Weight Gain</th>\n",
       "      <th>Weight Loss</th>\n",
       "    </tr>\n",
       "    <tr>\n",
       "      <th>MeSH Disease Term</th>\n",
       "      <th></th>\n",
       "      <th></th>\n",
       "      <th></th>\n",
       "      <th></th>\n",
       "      <th></th>\n",
       "      <th></th>\n",
       "      <th></th>\n",
       "      <th></th>\n",
       "      <th></th>\n",
       "      <th></th>\n",
       "      <th></th>\n",
       "      <th></th>\n",
       "      <th></th>\n",
       "      <th></th>\n",
       "      <th></th>\n",
       "      <th></th>\n",
       "      <th></th>\n",
       "      <th></th>\n",
       "      <th></th>\n",
       "      <th></th>\n",
       "      <th></th>\n",
       "    </tr>\n",
       "  </thead>\n",
       "  <tbody>\n",
       "    <tr>\n",
       "      <th>22q11 Deletion Syndrome</th>\n",
       "      <td>0.0</td>\n",
       "      <td>0.000000</td>\n",
       "      <td>0.0</td>\n",
       "      <td>0.0</td>\n",
       "      <td>0.0</td>\n",
       "      <td>0.0</td>\n",
       "      <td>0.0</td>\n",
       "      <td>0.0</td>\n",
       "      <td>0.0</td>\n",
       "      <td>0.0</td>\n",
       "      <td>...</td>\n",
       "      <td>0.000000</td>\n",
       "      <td>0.000000</td>\n",
       "      <td>0.0</td>\n",
       "      <td>0.0</td>\n",
       "      <td>0.0</td>\n",
       "      <td>0.0</td>\n",
       "      <td>0.0</td>\n",
       "      <td>0.0</td>\n",
       "      <td>0.00000</td>\n",
       "      <td>0.000000</td>\n",
       "    </tr>\n",
       "    <tr>\n",
       "      <th>46, XX Disorders of Sex Development</th>\n",
       "      <td>0.0</td>\n",
       "      <td>0.000000</td>\n",
       "      <td>0.0</td>\n",
       "      <td>0.0</td>\n",
       "      <td>0.0</td>\n",
       "      <td>0.0</td>\n",
       "      <td>0.0</td>\n",
       "      <td>0.0</td>\n",
       "      <td>0.0</td>\n",
       "      <td>0.0</td>\n",
       "      <td>...</td>\n",
       "      <td>2.227056</td>\n",
       "      <td>0.000000</td>\n",
       "      <td>0.0</td>\n",
       "      <td>0.0</td>\n",
       "      <td>0.0</td>\n",
       "      <td>0.0</td>\n",
       "      <td>0.0</td>\n",
       "      <td>0.0</td>\n",
       "      <td>0.00000</td>\n",
       "      <td>0.000000</td>\n",
       "    </tr>\n",
       "    <tr>\n",
       "      <th>46, XY Disorders of Sex Development</th>\n",
       "      <td>0.0</td>\n",
       "      <td>0.000000</td>\n",
       "      <td>0.0</td>\n",
       "      <td>0.0</td>\n",
       "      <td>0.0</td>\n",
       "      <td>0.0</td>\n",
       "      <td>0.0</td>\n",
       "      <td>0.0</td>\n",
       "      <td>0.0</td>\n",
       "      <td>0.0</td>\n",
       "      <td>...</td>\n",
       "      <td>4.454112</td>\n",
       "      <td>0.000000</td>\n",
       "      <td>0.0</td>\n",
       "      <td>0.0</td>\n",
       "      <td>0.0</td>\n",
       "      <td>0.0</td>\n",
       "      <td>0.0</td>\n",
       "      <td>0.0</td>\n",
       "      <td>0.00000</td>\n",
       "      <td>0.000000</td>\n",
       "    </tr>\n",
       "    <tr>\n",
       "      <th>ACTH Syndrome, Ectopic</th>\n",
       "      <td>0.0</td>\n",
       "      <td>0.848484</td>\n",
       "      <td>0.0</td>\n",
       "      <td>0.0</td>\n",
       "      <td>0.0</td>\n",
       "      <td>0.0</td>\n",
       "      <td>0.0</td>\n",
       "      <td>0.0</td>\n",
       "      <td>0.0</td>\n",
       "      <td>0.0</td>\n",
       "      <td>...</td>\n",
       "      <td>0.000000</td>\n",
       "      <td>0.000000</td>\n",
       "      <td>0.0</td>\n",
       "      <td>0.0</td>\n",
       "      <td>0.0</td>\n",
       "      <td>0.0</td>\n",
       "      <td>0.0</td>\n",
       "      <td>0.0</td>\n",
       "      <td>1.48669</td>\n",
       "      <td>1.000054</td>\n",
       "    </tr>\n",
       "    <tr>\n",
       "      <th>ACTH-Secreting Pituitary Adenoma</th>\n",
       "      <td>0.0</td>\n",
       "      <td>0.000000</td>\n",
       "      <td>0.0</td>\n",
       "      <td>0.0</td>\n",
       "      <td>0.0</td>\n",
       "      <td>0.0</td>\n",
       "      <td>0.0</td>\n",
       "      <td>0.0</td>\n",
       "      <td>0.0</td>\n",
       "      <td>0.0</td>\n",
       "      <td>...</td>\n",
       "      <td>0.000000</td>\n",
       "      <td>0.663489</td>\n",
       "      <td>0.0</td>\n",
       "      <td>0.0</td>\n",
       "      <td>0.0</td>\n",
       "      <td>0.0</td>\n",
       "      <td>0.0</td>\n",
       "      <td>0.0</td>\n",
       "      <td>1.48669</td>\n",
       "      <td>0.000000</td>\n",
       "    </tr>\n",
       "  </tbody>\n",
       "</table>\n",
       "<p>5 rows × 322 columns</p>\n",
       "</div>"
      ],
      "text/plain": [
       "MeSH Symptom Term                    Abdomen, Acute  Abdominal Pain  \\\n",
       "MeSH Disease Term                                                     \n",
       "22q11 Deletion Syndrome                         0.0        0.000000   \n",
       "46, XX Disorders of Sex Development             0.0        0.000000   \n",
       "46, XY Disorders of Sex Development             0.0        0.000000   \n",
       "ACTH Syndrome, Ectopic                          0.0        0.848484   \n",
       "ACTH-Secreting Pituitary Adenoma                0.0        0.000000   \n",
       "\n",
       "MeSH Symptom Term                    Acute Coronary Syndrome  Aerophagy  \\\n",
       "MeSH Disease Term                                                         \n",
       "22q11 Deletion Syndrome                                  0.0        0.0   \n",
       "46, XX Disorders of Sex Development                      0.0        0.0   \n",
       "46, XY Disorders of Sex Development                      0.0        0.0   \n",
       "ACTH Syndrome, Ectopic                                   0.0        0.0   \n",
       "ACTH-Secreting Pituitary Adenoma                         0.0        0.0   \n",
       "\n",
       "MeSH Symptom Term                    Ageusia  Aging, Premature  Agnosia  \\\n",
       "MeSH Disease Term                                                         \n",
       "22q11 Deletion Syndrome                  0.0               0.0      0.0   \n",
       "46, XX Disorders of Sex Development      0.0               0.0      0.0   \n",
       "46, XY Disorders of Sex Development      0.0               0.0      0.0   \n",
       "ACTH Syndrome, Ectopic                   0.0               0.0      0.0   \n",
       "ACTH-Secreting Pituitary Adenoma         0.0               0.0      0.0   \n",
       "\n",
       "MeSH Symptom Term                    Agraphia  Akathisia, Drug-Induced  \\\n",
       "MeSH Disease Term                                                        \n",
       "22q11 Deletion Syndrome                   0.0                      0.0   \n",
       "46, XX Disorders of Sex Development       0.0                      0.0   \n",
       "46, XY Disorders of Sex Development       0.0                      0.0   \n",
       "ACTH Syndrome, Ectopic                    0.0                      0.0   \n",
       "ACTH-Secreting Pituitary Adenoma          0.0                      0.0   \n",
       "\n",
       "MeSH Symptom Term                    Albuminuria  ...  Virilism  \\\n",
       "MeSH Disease Term                                 ...             \n",
       "22q11 Deletion Syndrome                      0.0  ...  0.000000   \n",
       "46, XX Disorders of Sex Development          0.0  ...  2.227056   \n",
       "46, XY Disorders of Sex Development          0.0  ...  4.454112   \n",
       "ACTH Syndrome, Ectopic                       0.0  ...  0.000000   \n",
       "ACTH-Secreting Pituitary Adenoma             0.0  ...  0.000000   \n",
       "\n",
       "MeSH Symptom Term                    Vision Disorders  Vision, Low  \\\n",
       "MeSH Disease Term                                                    \n",
       "22q11 Deletion Syndrome                      0.000000          0.0   \n",
       "46, XX Disorders of Sex Development          0.000000          0.0   \n",
       "46, XY Disorders of Sex Development          0.000000          0.0   \n",
       "ACTH Syndrome, Ectopic                       0.000000          0.0   \n",
       "ACTH-Secreting Pituitary Adenoma             0.663489          0.0   \n",
       "\n",
       "MeSH Symptom Term                    Vocal Cord Paralysis  Voice Disorders  \\\n",
       "MeSH Disease Term                                                            \n",
       "22q11 Deletion Syndrome                               0.0              0.0   \n",
       "46, XX Disorders of Sex Development                   0.0              0.0   \n",
       "46, XY Disorders of Sex Development                   0.0              0.0   \n",
       "ACTH Syndrome, Ectopic                                0.0              0.0   \n",
       "ACTH-Secreting Pituitary Adenoma                      0.0              0.0   \n",
       "\n",
       "MeSH Symptom Term                    Vomiting  Vomiting, Anticipatory  \\\n",
       "MeSH Disease Term                                                       \n",
       "22q11 Deletion Syndrome                   0.0                     0.0   \n",
       "46, XX Disorders of Sex Development       0.0                     0.0   \n",
       "46, XY Disorders of Sex Development       0.0                     0.0   \n",
       "ACTH Syndrome, Ectopic                    0.0                     0.0   \n",
       "ACTH-Secreting Pituitary Adenoma          0.0                     0.0   \n",
       "\n",
       "MeSH Symptom Term                    Waterhouse-Friderichsen Syndrome  \\\n",
       "MeSH Disease Term                                                       \n",
       "22q11 Deletion Syndrome                                           0.0   \n",
       "46, XX Disorders of Sex Development                               0.0   \n",
       "46, XY Disorders of Sex Development                               0.0   \n",
       "ACTH Syndrome, Ectopic                                            0.0   \n",
       "ACTH-Secreting Pituitary Adenoma                                  0.0   \n",
       "\n",
       "MeSH Symptom Term                    Weight Gain  Weight Loss  \n",
       "MeSH Disease Term                                              \n",
       "22q11 Deletion Syndrome                  0.00000     0.000000  \n",
       "46, XX Disorders of Sex Development      0.00000     0.000000  \n",
       "46, XY Disorders of Sex Development      0.00000     0.000000  \n",
       "ACTH Syndrome, Ectopic                   1.48669     1.000054  \n",
       "ACTH-Secreting Pituitary Adenoma         1.48669     0.000000  \n",
       "\n",
       "[5 rows x 322 columns]"
      ]
     },
     "execution_count": 28,
     "metadata": {},
     "output_type": "execute_result"
    }
   ],
   "source": [
    "df2 = df1.pivot_table(index='MeSH Disease Term',columns='MeSH Symptom Term',values='TFIDF score').fillna(0)\n",
    "df2.head()"
   ]
  },
  {
   "cell_type": "code",
   "execution_count": 42,
   "metadata": {},
   "outputs": [
    {
     "data": {
      "text/plain": [
       "MeSH Disease Term\n",
       "22q11 Deletion Syndrome                0.000000\n",
       "46, XX Disorders of Sex Development    0.000000\n",
       "46, XY Disorders of Sex Development    0.000000\n",
       "ACTH Syndrome, Ectopic                 0.000000\n",
       "ACTH-Secreting Pituitary Adenoma       0.663489\n",
       "Name: Vision Disorders, dtype: float64"
      ]
     },
     "execution_count": 42,
     "metadata": {},
     "output_type": "execute_result"
    }
   ],
   "source": [
    "one = df2['Vision Disorders']\n",
    "two = df2['Voice Disorders']\n",
    "one.head()"
   ]
  },
  {
   "cell_type": "code",
   "execution_count": 43,
   "metadata": {},
   "outputs": [],
   "source": [
    "one1 = df2.corrwith(one)\n",
    "one2 = df2.corrwith(two)"
   ]
  },
  {
   "cell_type": "code",
   "execution_count": 44,
   "metadata": {},
   "outputs": [
    {
     "data": {
      "text/html": [
       "<div>\n",
       "<style scoped>\n",
       "    .dataframe tbody tr th:only-of-type {\n",
       "        vertical-align: middle;\n",
       "    }\n",
       "\n",
       "    .dataframe tbody tr th {\n",
       "        vertical-align: top;\n",
       "    }\n",
       "\n",
       "    .dataframe thead th {\n",
       "        text-align: right;\n",
       "    }\n",
       "</style>\n",
       "<table border=\"1\" class=\"dataframe\">\n",
       "  <thead>\n",
       "    <tr style=\"text-align: right;\">\n",
       "      <th></th>\n",
       "      <th>Correlation</th>\n",
       "    </tr>\n",
       "    <tr>\n",
       "      <th>MeSH Symptom Term</th>\n",
       "      <th></th>\n",
       "    </tr>\n",
       "  </thead>\n",
       "  <tbody>\n",
       "    <tr>\n",
       "      <th>Abdomen, Acute</th>\n",
       "      <td>-0.000386</td>\n",
       "    </tr>\n",
       "    <tr>\n",
       "      <th>Abdominal Pain</th>\n",
       "      <td>0.000851</td>\n",
       "    </tr>\n",
       "    <tr>\n",
       "      <th>Acute Coronary Syndrome</th>\n",
       "      <td>-0.000657</td>\n",
       "    </tr>\n",
       "    <tr>\n",
       "      <th>Aerophagy</th>\n",
       "      <td>0.001608</td>\n",
       "    </tr>\n",
       "    <tr>\n",
       "      <th>Ageusia</th>\n",
       "      <td>0.002623</td>\n",
       "    </tr>\n",
       "  </tbody>\n",
       "</table>\n",
       "</div>"
      ],
      "text/plain": [
       "                         Correlation\n",
       "MeSH Symptom Term                   \n",
       "Abdomen, Acute             -0.000386\n",
       "Abdominal Pain              0.000851\n",
       "Acute Coronary Syndrome    -0.000657\n",
       "Aerophagy                   0.001608\n",
       "Ageusia                     0.002623"
      ]
     },
     "execution_count": 44,
     "metadata": {},
     "output_type": "execute_result"
    }
   ],
   "source": [
    "corr = pd.DataFrame(one1,columns=['Correlation'])\n",
    "corr.dropna(inplace=True)\n",
    "corr.head()"
   ]
  },
  {
   "cell_type": "code",
   "execution_count": 45,
   "metadata": {
    "scrolled": true
   },
   "outputs": [
    {
     "data": {
      "text/html": [
       "<div>\n",
       "<style scoped>\n",
       "    .dataframe tbody tr th:only-of-type {\n",
       "        vertical-align: middle;\n",
       "    }\n",
       "\n",
       "    .dataframe tbody tr th {\n",
       "        vertical-align: top;\n",
       "    }\n",
       "\n",
       "    .dataframe thead th {\n",
       "        text-align: right;\n",
       "    }\n",
       "</style>\n",
       "<table border=\"1\" class=\"dataframe\">\n",
       "  <thead>\n",
       "    <tr style=\"text-align: right;\">\n",
       "      <th></th>\n",
       "      <th>Correlation</th>\n",
       "    </tr>\n",
       "    <tr>\n",
       "      <th>MeSH Symptom Term</th>\n",
       "      <th></th>\n",
       "    </tr>\n",
       "  </thead>\n",
       "  <tbody>\n",
       "    <tr>\n",
       "      <th>Vision Disorders</th>\n",
       "      <td>1.000000</td>\n",
       "    </tr>\n",
       "    <tr>\n",
       "      <th>Eye Manifestations</th>\n",
       "      <td>0.269701</td>\n",
       "    </tr>\n",
       "    <tr>\n",
       "      <th>Scotoma</th>\n",
       "      <td>0.229335</td>\n",
       "    </tr>\n",
       "    <tr>\n",
       "      <th>Pseudophakia</th>\n",
       "      <td>0.227985</td>\n",
       "    </tr>\n",
       "    <tr>\n",
       "      <th>Hemianopsia</th>\n",
       "      <td>0.145685</td>\n",
       "    </tr>\n",
       "    <tr>\n",
       "      <th>Susac Syndrome</th>\n",
       "      <td>0.141569</td>\n",
       "    </tr>\n",
       "    <tr>\n",
       "      <th>Diplopia</th>\n",
       "      <td>0.112457</td>\n",
       "    </tr>\n",
       "    <tr>\n",
       "      <th>Illusions</th>\n",
       "      <td>0.109010</td>\n",
       "    </tr>\n",
       "    <tr>\n",
       "      <th>Alexia, Pure</th>\n",
       "      <td>0.103234</td>\n",
       "    </tr>\n",
       "    <tr>\n",
       "      <th>Blindness</th>\n",
       "      <td>0.082328</td>\n",
       "    </tr>\n",
       "  </tbody>\n",
       "</table>\n",
       "</div>"
      ],
      "text/plain": [
       "                    Correlation\n",
       "MeSH Symptom Term              \n",
       "Vision Disorders       1.000000\n",
       "Eye Manifestations     0.269701\n",
       "Scotoma                0.229335\n",
       "Pseudophakia           0.227985\n",
       "Hemianopsia            0.145685\n",
       "Susac Syndrome         0.141569\n",
       "Diplopia               0.112457\n",
       "Illusions              0.109010\n",
       "Alexia, Pure           0.103234\n",
       "Blindness              0.082328"
      ]
     },
     "execution_count": 45,
     "metadata": {},
     "output_type": "execute_result"
    }
   ],
   "source": [
    "corr.sort_values('Correlation',ascending=False).head(10)"
   ]
  },
  {
   "cell_type": "code",
   "execution_count": 46,
   "metadata": {},
   "outputs": [],
   "source": [
    "from scipy.sparse import csr_matrix\n",
    "\n",
    "df3 = csr_matrix(df2.values)"
   ]
  },
  {
   "cell_type": "code",
   "execution_count": 47,
   "metadata": {},
   "outputs": [
    {
     "data": {
      "text/plain": [
       "NearestNeighbors(algorithm='brute', metric='cosine')"
      ]
     },
     "execution_count": 47,
     "metadata": {},
     "output_type": "execute_result"
    }
   ],
   "source": [
    "from sklearn.neighbors import NearestNeighbors\n",
    "\n",
    "model_knn = NearestNeighbors(metric = 'cosine', algorithm = 'brute')\n",
    "model_knn.fit(df3)"
   ]
  },
  {
   "cell_type": "code",
   "execution_count": 48,
   "metadata": {},
   "outputs": [
    {
     "data": {
      "text/plain": [
       "(4219, 322)"
      ]
     },
     "execution_count": 48,
     "metadata": {},
     "output_type": "execute_result"
    }
   ],
   "source": [
    "df2.shape"
   ]
  },
  {
   "cell_type": "code",
   "execution_count": 51,
   "metadata": {},
   "outputs": [
    {
     "name": "stdout",
     "output_type": "stream",
     "text": [
      "3902\n"
     ]
    }
   ],
   "source": [
    "query_index = np.random.choice(df2.shape[0])\n",
    "print(query_index)\n",
    "distances, indices = model_knn.kneighbors(df2.iloc[query_index,:].values.reshape(1, -1), n_neighbors = 6)"
   ]
  },
  {
   "cell_type": "code",
   "execution_count": 52,
   "metadata": {},
   "outputs": [
    {
     "name": "stdout",
     "output_type": "stream",
     "text": [
      "Recommendations for Tooth Fractures:\n",
      "\n",
      "1: Toothache,  with distance of 0.00882591374511077:\n",
      "2: Cracked Tooth Syndrome,  with distance of 0.008931685987983107:\n",
      "3: Dental Pulp Diseases,  with distance of 0.009555099667658329:\n",
      "4: Pulpitis,  with distance of 0.009586013932559423:\n",
      "5: Dental Pulp Calcification,  with distance of 0.011725520590291194:\n"
     ]
    }
   ],
   "source": [
    "for i in range(0, len(distances.flatten())):\n",
    "    if i == 0:\n",
    "        print('Recommendations for {0}:\\n'.format(df2.index[query_index]))\n",
    "    else:\n",
    "        print('{0}: {1},  with distance of {2}:'.format(i,df2.index[indices.flatten()[i]], distances.flatten()[i]))"
   ]
  },
  {
   "cell_type": "code",
   "execution_count": null,
   "metadata": {},
   "outputs": [],
   "source": []
  },
  {
   "cell_type": "code",
   "execution_count": null,
   "metadata": {},
   "outputs": [],
   "source": []
  },
  {
   "cell_type": "code",
   "execution_count": null,
   "metadata": {},
   "outputs": [],
   "source": []
  },
  {
   "cell_type": "code",
   "execution_count": null,
   "metadata": {},
   "outputs": [],
   "source": []
  },
  {
   "cell_type": "code",
   "execution_count": 33,
   "metadata": {},
   "outputs": [],
   "source": [
    "mergedf=pd.concat([df,df1],axis=0,sort=False)"
   ]
  },
  {
   "cell_type": "code",
   "execution_count": 34,
   "metadata": {},
   "outputs": [
    {
     "data": {
      "text/html": [
       "<div>\n",
       "<style scoped>\n",
       "    .dataframe tbody tr th:only-of-type {\n",
       "        vertical-align: middle;\n",
       "    }\n",
       "\n",
       "    .dataframe tbody tr th {\n",
       "        vertical-align: top;\n",
       "    }\n",
       "\n",
       "    .dataframe thead th {\n",
       "        text-align: right;\n",
       "    }\n",
       "</style>\n",
       "<table border=\"1\" class=\"dataframe\">\n",
       "  <thead>\n",
       "    <tr style=\"text-align: right;\">\n",
       "      <th></th>\n",
       "      <th>Age</th>\n",
       "      <th>Gender</th>\n",
       "      <th>Pincode</th>\n",
       "      <th>Weight</th>\n",
       "      <th>Height</th>\n",
       "      <th>MeSH Symptom Term</th>\n",
       "    </tr>\n",
       "  </thead>\n",
       "  <tbody>\n",
       "    <tr>\n",
       "      <th>1</th>\n",
       "      <td>46.0</td>\n",
       "      <td>1.0</td>\n",
       "      <td>110098.0</td>\n",
       "      <td>111.0</td>\n",
       "      <td>89.0</td>\n",
       "      <td>NaN</td>\n",
       "    </tr>\n",
       "    <tr>\n",
       "      <th>2</th>\n",
       "      <td>22.0</td>\n",
       "      <td>0.0</td>\n",
       "      <td>110040.0</td>\n",
       "      <td>85.0</td>\n",
       "      <td>88.0</td>\n",
       "      <td>NaN</td>\n",
       "    </tr>\n",
       "    <tr>\n",
       "      <th>3</th>\n",
       "      <td>35.0</td>\n",
       "      <td>1.0</td>\n",
       "      <td>110095.0</td>\n",
       "      <td>24.0</td>\n",
       "      <td>141.0</td>\n",
       "      <td>NaN</td>\n",
       "    </tr>\n",
       "    <tr>\n",
       "      <th>4</th>\n",
       "      <td>92.0</td>\n",
       "      <td>1.0</td>\n",
       "      <td>110069.0</td>\n",
       "      <td>95.0</td>\n",
       "      <td>84.0</td>\n",
       "      <td>NaN</td>\n",
       "    </tr>\n",
       "    <tr>\n",
       "      <th>5</th>\n",
       "      <td>10.0</td>\n",
       "      <td>1.0</td>\n",
       "      <td>110030.0</td>\n",
       "      <td>114.0</td>\n",
       "      <td>88.0</td>\n",
       "      <td>NaN</td>\n",
       "    </tr>\n",
       "  </tbody>\n",
       "</table>\n",
       "</div>"
      ],
      "text/plain": [
       "    Age  Gender   Pincode  Weight  Height MeSH Symptom Term\n",
       "1  46.0     1.0  110098.0   111.0    89.0               NaN\n",
       "2  22.0     0.0  110040.0    85.0    88.0               NaN\n",
       "3  35.0     1.0  110095.0    24.0   141.0               NaN\n",
       "4  92.0     1.0  110069.0    95.0    84.0               NaN\n",
       "5  10.0     1.0  110030.0   114.0    88.0               NaN"
      ]
     },
     "execution_count": 34,
     "metadata": {},
     "output_type": "execute_result"
    }
   ],
   "source": [
    "mergedf.head()"
   ]
  },
  {
   "cell_type": "code",
   "execution_count": 3,
   "metadata": {},
   "outputs": [
    {
     "data": {
      "text/plain": [
       "327"
      ]
     },
     "execution_count": 3,
     "metadata": {},
     "output_type": "execute_result"
    }
   ],
   "source": [
    "df.shape[1]"
   ]
  },
  {
   "cell_type": "code",
   "execution_count": 4,
   "metadata": {},
   "outputs": [],
   "source": [
    "col_list = list(df.columns)"
   ]
  },
  {
   "cell_type": "code",
   "execution_count": 5,
   "metadata": {},
   "outputs": [],
   "source": [
    "# len(col_list)"
   ]
  },
  {
   "cell_type": "code",
   "execution_count": null,
   "metadata": {},
   "outputs": [],
   "source": []
  },
  {
   "cell_type": "code",
   "execution_count": null,
   "metadata": {},
   "outputs": [],
   "source": []
  },
  {
   "cell_type": "code",
   "execution_count": 6,
   "metadata": {},
   "outputs": [
    {
     "data": {
      "text/plain": [
       "array([[1.        , 0.        , 0.        , ..., 0.        , 0.        ,\n",
       "        0.        ],\n",
       "       [0.        , 1.        , 0.        , ..., 0.35      , 0.25      ,\n",
       "        0.45      ],\n",
       "       [0.        , 0.        , 1.        , ..., 0.        , 0.        ,\n",
       "        0.        ],\n",
       "       ...,\n",
       "       [0.        , 0.35      , 0.        , ..., 1.        , 0.35714286,\n",
       "        0.58      ],\n",
       "       [0.        , 0.25      , 0.        , ..., 0.35714286, 1.        ,\n",
       "        0.27619048],\n",
       "       [0.        , 0.45      , 0.        , ..., 0.58      , 0.27619048,\n",
       "        1.        ]])"
      ]
     },
     "execution_count": 6,
     "metadata": {},
     "output_type": "execute_result"
    }
   ],
   "source": [
    "# similarity matrix\n",
    "\n",
    "from sklearn.metrics import jaccard_score\n",
    "simi_mat = np.empty((327,327))\n",
    "for i in range(len(col_list)):\n",
    "    for j in range(i, len(col_list)):\n",
    "        score = jaccard_score(df[col_list[i]], df[col_list[j]], average=\"weighted\")\n",
    "        simi_mat[i][j] = score\n",
    "        simi_mat[j][i] = score\n",
    "simi_mat"
   ]
  },
  {
   "cell_type": "code",
   "execution_count": 7,
   "metadata": {},
   "outputs": [
    {
     "data": {
      "text/plain": [
       "array([0.        , 0.54166667, 0.        , 0.        , 0.        ,\n",
       "       1.        , 0.7       , 0.11111111, 0.25      , 0.46666667,\n",
       "       0.32      , 0.38888889, 0.46666667, 0.38888889, 0.38888889,\n",
       "       0.38888889, 0.24      , 0.48444444, 0.4       , 0.11111111,\n",
       "       0.2952381 , 0.48444444, 0.48444444, 0.20277778, 0.24      ,\n",
       "       0.11111111, 0.48444444, 0.24      , 0.35714286, 0.2952381 ,\n",
       "       0.48444444, 0.20277778, 0.4       , 0.2952381 , 0.38888889,\n",
       "       0.48444444, 0.48444444, 0.56      , 0.35714286, 0.35714286,\n",
       "       0.35714286, 0.48444444, 0.46666667, 0.35714286, 0.35714286,\n",
       "       0.4       , 0.24      , 0.2952381 , 0.58333333, 0.38888889,\n",
       "       0.32      , 0.48      , 0.48444444, 0.38888889, 0.4       ,\n",
       "       0.83333333, 0.38888889, 0.35714286, 0.16      , 0.83333333,\n",
       "       0.48444444, 0.38888889, 0.48444444, 0.38888889, 0.7       ,\n",
       "       0.38888889, 0.32      , 0.2952381 , 0.4       , 0.58333333,\n",
       "       0.16      , 0.24      , 0.68888889, 0.32      , 0.20277778,\n",
       "       0.24      , 0.24      , 0.35714286, 0.38888889, 0.35714286,\n",
       "       0.35714286, 0.48444444, 0.46666667, 0.7       , 0.46666667,\n",
       "       0.48444444, 0.58333333, 0.32      , 0.7       , 0.16      ,\n",
       "       0.11111111, 0.48444444, 0.2952381 , 0.58      , 0.46666667,\n",
       "       0.38888889, 0.25      , 0.38888889, 0.38888889, 0.20277778,\n",
       "       0.35714286, 0.58333333, 0.25      , 0.2952381 , 0.2952381 ,\n",
       "       0.24      , 0.38888889, 0.35714286, 0.24      , 0.46666667,\n",
       "       0.2952381 , 0.48      , 0.46666667, 0.46666667, 0.20277778,\n",
       "       0.35714286, 0.48444444, 0.46666667, 0.38888889, 0.38888889,\n",
       "       0.38888889, 0.2952381 , 0.7       , 0.24      , 0.38888889,\n",
       "       0.20277778, 0.32      , 0.2952381 , 0.32      , 0.58333333,\n",
       "       0.38888889, 0.4       , 0.16      , 0.2952381 , 0.20277778,\n",
       "       0.81111111, 0.32      , 0.32      , 0.24      , 0.68888889,\n",
       "       0.46666667, 0.48444444, 0.48444444, 0.38888889, 0.7       ,\n",
       "       0.48444444, 0.58333333, 0.48      , 0.83333333, 0.58333333,\n",
       "       0.48444444, 0.32      , 0.32      , 0.11111111, 0.48444444,\n",
       "       0.32      , 0.24      , 0.2952381 , 0.4       , 0.38888889,\n",
       "       0.2952381 , 0.2952381 , 0.2952381 , 0.32      , 0.4       ,\n",
       "       0.58      , 0.48444444, 0.46666667, 0.58      , 0.32      ,\n",
       "       0.4       , 0.25      , 0.35714286, 0.38888889, 0.38888889,\n",
       "       0.58333333, 0.2952381 , 0.58333333, 0.58333333, 0.20277778,\n",
       "       0.2952381 , 0.48444444, 0.48444444, 0.2952381 , 0.35714286,\n",
       "       0.25      , 0.4       , 0.32      , 0.14444444, 0.46666667,\n",
       "       0.38888889, 0.2952381 , 0.20277778, 0.48444444, 0.11111111,\n",
       "       0.48444444, 0.16      , 0.11111111, 0.14444444, 0.58      ,\n",
       "       0.4       , 0.02      , 0.46666667, 0.20277778, 0.46666667,\n",
       "       0.4       , 0.58333333, 0.58333333, 0.48444444, 0.48444444,\n",
       "       0.4       , 0.25      , 0.38888889, 0.38888889, 0.24      ,\n",
       "       0.68888889, 0.35714286, 0.38888889, 0.2952381 , 0.46666667,\n",
       "       0.2952381 , 0.48444444, 0.32      , 0.48444444, 0.2952381 ,\n",
       "       0.7       , 0.20277778, 0.46666667, 0.24      , 0.35714286,\n",
       "       0.58333333, 0.58      , 0.48444444, 0.20277778, 0.7       ,\n",
       "       0.2952381 , 0.46666667, 0.46666667, 0.24      , 0.48444444,\n",
       "       0.58      , 0.46666667, 0.2952381 , 0.58333333, 0.2952381 ,\n",
       "       0.08      , 0.7       , 0.32      , 0.38888889, 0.4       ,\n",
       "       0.24      , 0.38888889, 0.2952381 , 0.2952381 , 0.48      ,\n",
       "       0.25      , 0.35714286, 0.48      , 0.4       , 0.32      ,\n",
       "       0.58333333, 0.48444444, 0.68888889, 0.38888889, 0.35714286,\n",
       "       0.2952381 , 0.2952381 , 0.58      , 0.25      , 0.32      ,\n",
       "       0.2952381 , 0.2952381 , 0.7       , 0.48444444, 0.11111111,\n",
       "       0.25      , 0.83333333, 0.2952381 , 0.38888889, 0.46666667,\n",
       "       0.35714286, 0.4       , 0.24      , 0.48      , 0.14444444,\n",
       "       0.38888889, 0.58333333, 0.58      , 0.48      , 0.48444444,\n",
       "       0.4       , 0.38888889, 0.24      , 0.20277778, 0.56      ,\n",
       "       0.38888889, 0.38888889, 0.24      , 0.32      , 0.24      ,\n",
       "       0.56      , 0.14444444, 0.38888889, 0.48444444, 0.48444444,\n",
       "       0.48444444, 0.4       , 0.38888889, 0.35714286, 0.32      ,\n",
       "       0.58333333, 0.48444444, 0.7       , 0.58      , 0.38888889,\n",
       "       0.35714286, 0.20277778, 0.48444444, 0.35714286, 0.58333333,\n",
       "       0.48444444, 0.38888889, 0.2952381 , 0.2952381 , 0.68888889,\n",
       "       0.35714286, 0.58      ])"
      ]
     },
     "execution_count": 7,
     "metadata": {},
     "output_type": "execute_result"
    }
   ],
   "source": [
    "simi_mat[5]"
   ]
  },
  {
   "cell_type": "code",
   "execution_count": 8,
   "metadata": {},
   "outputs": [
    {
     "data": {
      "text/html": [
       "<div>\n",
       "<style scoped>\n",
       "    .dataframe tbody tr th:only-of-type {\n",
       "        vertical-align: middle;\n",
       "    }\n",
       "\n",
       "    .dataframe tbody tr th {\n",
       "        vertical-align: top;\n",
       "    }\n",
       "\n",
       "    .dataframe thead th {\n",
       "        text-align: right;\n",
       "    }\n",
       "</style>\n",
       "<table border=\"1\" class=\"dataframe\">\n",
       "  <thead>\n",
       "    <tr style=\"text-align: right;\">\n",
       "      <th></th>\n",
       "      <th>Age</th>\n",
       "      <th>Gender</th>\n",
       "      <th>Pincode</th>\n",
       "      <th>Weight</th>\n",
       "      <th>Height</th>\n",
       "      <th>Body Weight</th>\n",
       "      <th>Pain</th>\n",
       "      <th>Obesity</th>\n",
       "      <th>Anoxia</th>\n",
       "      <th>Mental Retardation</th>\n",
       "      <th>...</th>\n",
       "      <th>Susac Syndrome</th>\n",
       "      <th>Sweating Sickness</th>\n",
       "      <th>Primary Progressive Nonfluent Aphasia</th>\n",
       "      <th>Piriformis Muscle Syndrome</th>\n",
       "      <th>Striae Distensae</th>\n",
       "      <th>Alien Hand Syndrome</th>\n",
       "      <th>Necrolytic Migratory Erythema</th>\n",
       "      <th>Body Weight Changes</th>\n",
       "      <th>Slit Ventricle Syndrome</th>\n",
       "      <th>Infantile Apparent Life-Threatening Event</th>\n",
       "    </tr>\n",
       "  </thead>\n",
       "  <tbody>\n",
       "    <tr>\n",
       "      <th>Age</th>\n",
       "      <td>1.0</td>\n",
       "      <td>0.000000</td>\n",
       "      <td>0.0</td>\n",
       "      <td>0.0</td>\n",
       "      <td>0.0</td>\n",
       "      <td>0.000000</td>\n",
       "      <td>0.000000</td>\n",
       "      <td>0.000000</td>\n",
       "      <td>0.000000</td>\n",
       "      <td>0.000000</td>\n",
       "      <td>...</td>\n",
       "      <td>0.000000</td>\n",
       "      <td>0.000000</td>\n",
       "      <td>0.000000</td>\n",
       "      <td>0.000000</td>\n",
       "      <td>0.000000</td>\n",
       "      <td>0.000000</td>\n",
       "      <td>0.000000</td>\n",
       "      <td>0.000000</td>\n",
       "      <td>0.000000</td>\n",
       "      <td>0.000000</td>\n",
       "    </tr>\n",
       "    <tr>\n",
       "      <th>Gender</th>\n",
       "      <td>0.0</td>\n",
       "      <td>1.000000</td>\n",
       "      <td>0.0</td>\n",
       "      <td>0.0</td>\n",
       "      <td>0.0</td>\n",
       "      <td>0.541667</td>\n",
       "      <td>0.557500</td>\n",
       "      <td>0.154167</td>\n",
       "      <td>0.030000</td>\n",
       "      <td>0.550000</td>\n",
       "      <td>...</td>\n",
       "      <td>0.361111</td>\n",
       "      <td>0.250000</td>\n",
       "      <td>0.448889</td>\n",
       "      <td>0.210000</td>\n",
       "      <td>0.680000</td>\n",
       "      <td>0.348214</td>\n",
       "      <td>0.348214</td>\n",
       "      <td>0.350000</td>\n",
       "      <td>0.250000</td>\n",
       "      <td>0.450000</td>\n",
       "    </tr>\n",
       "    <tr>\n",
       "      <th>Pincode</th>\n",
       "      <td>0.0</td>\n",
       "      <td>0.000000</td>\n",
       "      <td>1.0</td>\n",
       "      <td>0.0</td>\n",
       "      <td>0.0</td>\n",
       "      <td>0.000000</td>\n",
       "      <td>0.000000</td>\n",
       "      <td>0.000000</td>\n",
       "      <td>0.000000</td>\n",
       "      <td>0.000000</td>\n",
       "      <td>...</td>\n",
       "      <td>0.000000</td>\n",
       "      <td>0.000000</td>\n",
       "      <td>0.000000</td>\n",
       "      <td>0.000000</td>\n",
       "      <td>0.000000</td>\n",
       "      <td>0.000000</td>\n",
       "      <td>0.000000</td>\n",
       "      <td>0.000000</td>\n",
       "      <td>0.000000</td>\n",
       "      <td>0.000000</td>\n",
       "    </tr>\n",
       "    <tr>\n",
       "      <th>Weight</th>\n",
       "      <td>0.0</td>\n",
       "      <td>0.000000</td>\n",
       "      <td>0.0</td>\n",
       "      <td>1.0</td>\n",
       "      <td>0.0</td>\n",
       "      <td>0.000000</td>\n",
       "      <td>0.000000</td>\n",
       "      <td>0.000000</td>\n",
       "      <td>0.000000</td>\n",
       "      <td>0.000000</td>\n",
       "      <td>...</td>\n",
       "      <td>0.000000</td>\n",
       "      <td>0.000000</td>\n",
       "      <td>0.000000</td>\n",
       "      <td>0.000000</td>\n",
       "      <td>0.000000</td>\n",
       "      <td>0.000000</td>\n",
       "      <td>0.000000</td>\n",
       "      <td>0.000000</td>\n",
       "      <td>0.000000</td>\n",
       "      <td>0.000000</td>\n",
       "    </tr>\n",
       "    <tr>\n",
       "      <th>Height</th>\n",
       "      <td>0.0</td>\n",
       "      <td>0.000000</td>\n",
       "      <td>0.0</td>\n",
       "      <td>0.0</td>\n",
       "      <td>1.0</td>\n",
       "      <td>0.000000</td>\n",
       "      <td>0.000000</td>\n",
       "      <td>0.000000</td>\n",
       "      <td>0.000000</td>\n",
       "      <td>0.000000</td>\n",
       "      <td>...</td>\n",
       "      <td>0.000000</td>\n",
       "      <td>0.000000</td>\n",
       "      <td>0.000000</td>\n",
       "      <td>0.000000</td>\n",
       "      <td>0.000000</td>\n",
       "      <td>0.000000</td>\n",
       "      <td>0.000000</td>\n",
       "      <td>0.000000</td>\n",
       "      <td>0.000000</td>\n",
       "      <td>0.000000</td>\n",
       "    </tr>\n",
       "    <tr>\n",
       "      <th>...</th>\n",
       "      <td>...</td>\n",
       "      <td>...</td>\n",
       "      <td>...</td>\n",
       "      <td>...</td>\n",
       "      <td>...</td>\n",
       "      <td>...</td>\n",
       "      <td>...</td>\n",
       "      <td>...</td>\n",
       "      <td>...</td>\n",
       "      <td>...</td>\n",
       "      <td>...</td>\n",
       "      <td>...</td>\n",
       "      <td>...</td>\n",
       "      <td>...</td>\n",
       "      <td>...</td>\n",
       "      <td>...</td>\n",
       "      <td>...</td>\n",
       "      <td>...</td>\n",
       "      <td>...</td>\n",
       "      <td>...</td>\n",
       "      <td>...</td>\n",
       "    </tr>\n",
       "    <tr>\n",
       "      <th>Alien Hand Syndrome</th>\n",
       "      <td>0.0</td>\n",
       "      <td>0.348214</td>\n",
       "      <td>0.0</td>\n",
       "      <td>0.0</td>\n",
       "      <td>0.0</td>\n",
       "      <td>0.295238</td>\n",
       "      <td>0.250000</td>\n",
       "      <td>0.484444</td>\n",
       "      <td>0.484444</td>\n",
       "      <td>0.257143</td>\n",
       "      <td>...</td>\n",
       "      <td>0.111111</td>\n",
       "      <td>0.361111</td>\n",
       "      <td>0.193056</td>\n",
       "      <td>0.250000</td>\n",
       "      <td>0.330357</td>\n",
       "      <td>1.000000</td>\n",
       "      <td>0.257143</td>\n",
       "      <td>0.219048</td>\n",
       "      <td>0.333333</td>\n",
       "      <td>0.339286</td>\n",
       "    </tr>\n",
       "    <tr>\n",
       "      <th>Necrolytic Migratory Erythema</th>\n",
       "      <td>0.0</td>\n",
       "      <td>0.348214</td>\n",
       "      <td>0.0</td>\n",
       "      <td>0.0</td>\n",
       "      <td>0.0</td>\n",
       "      <td>0.295238</td>\n",
       "      <td>0.428571</td>\n",
       "      <td>0.700000</td>\n",
       "      <td>0.320000</td>\n",
       "      <td>0.668571</td>\n",
       "      <td>...</td>\n",
       "      <td>0.428571</td>\n",
       "      <td>0.557500</td>\n",
       "      <td>0.550000</td>\n",
       "      <td>0.428571</td>\n",
       "      <td>0.173611</td>\n",
       "      <td>0.257143</td>\n",
       "      <td>1.000000</td>\n",
       "      <td>0.400000</td>\n",
       "      <td>0.180000</td>\n",
       "      <td>0.542857</td>\n",
       "    </tr>\n",
       "    <tr>\n",
       "      <th>Body Weight Changes</th>\n",
       "      <td>0.0</td>\n",
       "      <td>0.350000</td>\n",
       "      <td>0.0</td>\n",
       "      <td>0.0</td>\n",
       "      <td>0.0</td>\n",
       "      <td>0.688889</td>\n",
       "      <td>0.413333</td>\n",
       "      <td>0.250000</td>\n",
       "      <td>0.250000</td>\n",
       "      <td>0.219048</td>\n",
       "      <td>...</td>\n",
       "      <td>0.413333</td>\n",
       "      <td>0.312500</td>\n",
       "      <td>0.541667</td>\n",
       "      <td>0.413333</td>\n",
       "      <td>0.150000</td>\n",
       "      <td>0.219048</td>\n",
       "      <td>0.400000</td>\n",
       "      <td>1.000000</td>\n",
       "      <td>0.357143</td>\n",
       "      <td>0.580000</td>\n",
       "    </tr>\n",
       "    <tr>\n",
       "      <th>Slit Ventricle Syndrome</th>\n",
       "      <td>0.0</td>\n",
       "      <td>0.250000</td>\n",
       "      <td>0.0</td>\n",
       "      <td>0.0</td>\n",
       "      <td>0.0</td>\n",
       "      <td>0.357143</td>\n",
       "      <td>0.321429</td>\n",
       "      <td>0.400000</td>\n",
       "      <td>0.583333</td>\n",
       "      <td>0.180000</td>\n",
       "      <td>...</td>\n",
       "      <td>0.163889</td>\n",
       "      <td>0.448889</td>\n",
       "      <td>0.250000</td>\n",
       "      <td>0.163889</td>\n",
       "      <td>0.416667</td>\n",
       "      <td>0.333333</td>\n",
       "      <td>0.180000</td>\n",
       "      <td>0.357143</td>\n",
       "      <td>1.000000</td>\n",
       "      <td>0.276190</td>\n",
       "    </tr>\n",
       "    <tr>\n",
       "      <th>Infantile Apparent Life-Threatening Event</th>\n",
       "      <td>0.0</td>\n",
       "      <td>0.450000</td>\n",
       "      <td>0.0</td>\n",
       "      <td>0.0</td>\n",
       "      <td>0.0</td>\n",
       "      <td>0.580000</td>\n",
       "      <td>0.339286</td>\n",
       "      <td>0.388889</td>\n",
       "      <td>0.388889</td>\n",
       "      <td>0.542857</td>\n",
       "      <td>...</td>\n",
       "      <td>0.542857</td>\n",
       "      <td>0.450000</td>\n",
       "      <td>0.276190</td>\n",
       "      <td>0.339286</td>\n",
       "      <td>0.250000</td>\n",
       "      <td>0.339286</td>\n",
       "      <td>0.542857</td>\n",
       "      <td>0.580000</td>\n",
       "      <td>0.276190</td>\n",
       "      <td>1.000000</td>\n",
       "    </tr>\n",
       "  </tbody>\n",
       "</table>\n",
       "<p>327 rows × 327 columns</p>\n",
       "</div>"
      ],
      "text/plain": [
       "                                           Age    Gender  Pincode  Weight  \\\n",
       "Age                                        1.0  0.000000      0.0     0.0   \n",
       "Gender                                     0.0  1.000000      0.0     0.0   \n",
       "Pincode                                    0.0  0.000000      1.0     0.0   \n",
       "Weight                                     0.0  0.000000      0.0     1.0   \n",
       "Height                                     0.0  0.000000      0.0     0.0   \n",
       "...                                        ...       ...      ...     ...   \n",
       "Alien Hand Syndrome                        0.0  0.348214      0.0     0.0   \n",
       "Necrolytic Migratory Erythema              0.0  0.348214      0.0     0.0   \n",
       "Body Weight Changes                        0.0  0.350000      0.0     0.0   \n",
       "Slit Ventricle Syndrome                    0.0  0.250000      0.0     0.0   \n",
       "Infantile Apparent Life-Threatening Event  0.0  0.450000      0.0     0.0   \n",
       "\n",
       "                                           Height  Body Weight      Pain  \\\n",
       "Age                                           0.0     0.000000  0.000000   \n",
       "Gender                                        0.0     0.541667  0.557500   \n",
       "Pincode                                       0.0     0.000000  0.000000   \n",
       "Weight                                        0.0     0.000000  0.000000   \n",
       "Height                                        1.0     0.000000  0.000000   \n",
       "...                                           ...          ...       ...   \n",
       "Alien Hand Syndrome                           0.0     0.295238  0.250000   \n",
       "Necrolytic Migratory Erythema                 0.0     0.295238  0.428571   \n",
       "Body Weight Changes                           0.0     0.688889  0.413333   \n",
       "Slit Ventricle Syndrome                       0.0     0.357143  0.321429   \n",
       "Infantile Apparent Life-Threatening Event     0.0     0.580000  0.339286   \n",
       "\n",
       "                                            Obesity    Anoxia  \\\n",
       "Age                                        0.000000  0.000000   \n",
       "Gender                                     0.154167  0.030000   \n",
       "Pincode                                    0.000000  0.000000   \n",
       "Weight                                     0.000000  0.000000   \n",
       "Height                                     0.000000  0.000000   \n",
       "...                                             ...       ...   \n",
       "Alien Hand Syndrome                        0.484444  0.484444   \n",
       "Necrolytic Migratory Erythema              0.700000  0.320000   \n",
       "Body Weight Changes                        0.250000  0.250000   \n",
       "Slit Ventricle Syndrome                    0.400000  0.583333   \n",
       "Infantile Apparent Life-Threatening Event  0.388889  0.388889   \n",
       "\n",
       "                                           Mental Retardation  ...  \\\n",
       "Age                                                  0.000000  ...   \n",
       "Gender                                               0.550000  ...   \n",
       "Pincode                                              0.000000  ...   \n",
       "Weight                                               0.000000  ...   \n",
       "Height                                               0.000000  ...   \n",
       "...                                                       ...  ...   \n",
       "Alien Hand Syndrome                                  0.257143  ...   \n",
       "Necrolytic Migratory Erythema                        0.668571  ...   \n",
       "Body Weight Changes                                  0.219048  ...   \n",
       "Slit Ventricle Syndrome                              0.180000  ...   \n",
       "Infantile Apparent Life-Threatening Event            0.542857  ...   \n",
       "\n",
       "                                           Susac Syndrome  Sweating Sickness  \\\n",
       "Age                                              0.000000           0.000000   \n",
       "Gender                                           0.361111           0.250000   \n",
       "Pincode                                          0.000000           0.000000   \n",
       "Weight                                           0.000000           0.000000   \n",
       "Height                                           0.000000           0.000000   \n",
       "...                                                   ...                ...   \n",
       "Alien Hand Syndrome                              0.111111           0.361111   \n",
       "Necrolytic Migratory Erythema                    0.428571           0.557500   \n",
       "Body Weight Changes                              0.413333           0.312500   \n",
       "Slit Ventricle Syndrome                          0.163889           0.448889   \n",
       "Infantile Apparent Life-Threatening Event        0.542857           0.450000   \n",
       "\n",
       "                                           Primary Progressive Nonfluent Aphasia  \\\n",
       "Age                                                                     0.000000   \n",
       "Gender                                                                  0.448889   \n",
       "Pincode                                                                 0.000000   \n",
       "Weight                                                                  0.000000   \n",
       "Height                                                                  0.000000   \n",
       "...                                                                          ...   \n",
       "Alien Hand Syndrome                                                     0.193056   \n",
       "Necrolytic Migratory Erythema                                           0.550000   \n",
       "Body Weight Changes                                                     0.541667   \n",
       "Slit Ventricle Syndrome                                                 0.250000   \n",
       "Infantile Apparent Life-Threatening Event                               0.276190   \n",
       "\n",
       "                                           Piriformis Muscle Syndrome  \\\n",
       "Age                                                          0.000000   \n",
       "Gender                                                       0.210000   \n",
       "Pincode                                                      0.000000   \n",
       "Weight                                                       0.000000   \n",
       "Height                                                       0.000000   \n",
       "...                                                               ...   \n",
       "Alien Hand Syndrome                                          0.250000   \n",
       "Necrolytic Migratory Erythema                                0.428571   \n",
       "Body Weight Changes                                          0.413333   \n",
       "Slit Ventricle Syndrome                                      0.163889   \n",
       "Infantile Apparent Life-Threatening Event                    0.339286   \n",
       "\n",
       "                                           Striae Distensae  \\\n",
       "Age                                                0.000000   \n",
       "Gender                                             0.680000   \n",
       "Pincode                                            0.000000   \n",
       "Weight                                             0.000000   \n",
       "Height                                             0.000000   \n",
       "...                                                     ...   \n",
       "Alien Hand Syndrome                                0.330357   \n",
       "Necrolytic Migratory Erythema                      0.173611   \n",
       "Body Weight Changes                                0.150000   \n",
       "Slit Ventricle Syndrome                            0.416667   \n",
       "Infantile Apparent Life-Threatening Event          0.250000   \n",
       "\n",
       "                                           Alien Hand Syndrome  \\\n",
       "Age                                                   0.000000   \n",
       "Gender                                                0.348214   \n",
       "Pincode                                               0.000000   \n",
       "Weight                                                0.000000   \n",
       "Height                                                0.000000   \n",
       "...                                                        ...   \n",
       "Alien Hand Syndrome                                   1.000000   \n",
       "Necrolytic Migratory Erythema                         0.257143   \n",
       "Body Weight Changes                                   0.219048   \n",
       "Slit Ventricle Syndrome                               0.333333   \n",
       "Infantile Apparent Life-Threatening Event             0.339286   \n",
       "\n",
       "                                           Necrolytic Migratory Erythema  \\\n",
       "Age                                                             0.000000   \n",
       "Gender                                                          0.348214   \n",
       "Pincode                                                         0.000000   \n",
       "Weight                                                          0.000000   \n",
       "Height                                                          0.000000   \n",
       "...                                                                  ...   \n",
       "Alien Hand Syndrome                                             0.257143   \n",
       "Necrolytic Migratory Erythema                                   1.000000   \n",
       "Body Weight Changes                                             0.400000   \n",
       "Slit Ventricle Syndrome                                         0.180000   \n",
       "Infantile Apparent Life-Threatening Event                       0.542857   \n",
       "\n",
       "                                           Body Weight Changes  \\\n",
       "Age                                                   0.000000   \n",
       "Gender                                                0.350000   \n",
       "Pincode                                               0.000000   \n",
       "Weight                                                0.000000   \n",
       "Height                                                0.000000   \n",
       "...                                                        ...   \n",
       "Alien Hand Syndrome                                   0.219048   \n",
       "Necrolytic Migratory Erythema                         0.400000   \n",
       "Body Weight Changes                                   1.000000   \n",
       "Slit Ventricle Syndrome                               0.357143   \n",
       "Infantile Apparent Life-Threatening Event             0.580000   \n",
       "\n",
       "                                           Slit Ventricle Syndrome  \\\n",
       "Age                                                       0.000000   \n",
       "Gender                                                    0.250000   \n",
       "Pincode                                                   0.000000   \n",
       "Weight                                                    0.000000   \n",
       "Height                                                    0.000000   \n",
       "...                                                            ...   \n",
       "Alien Hand Syndrome                                       0.333333   \n",
       "Necrolytic Migratory Erythema                             0.180000   \n",
       "Body Weight Changes                                       0.357143   \n",
       "Slit Ventricle Syndrome                                   1.000000   \n",
       "Infantile Apparent Life-Threatening Event                 0.276190   \n",
       "\n",
       "                                           Infantile Apparent Life-Threatening Event  \n",
       "Age                                                                         0.000000  \n",
       "Gender                                                                      0.450000  \n",
       "Pincode                                                                     0.000000  \n",
       "Weight                                                                      0.000000  \n",
       "Height                                                                      0.000000  \n",
       "...                                                                              ...  \n",
       "Alien Hand Syndrome                                                         0.339286  \n",
       "Necrolytic Migratory Erythema                                               0.542857  \n",
       "Body Weight Changes                                                         0.580000  \n",
       "Slit Ventricle Syndrome                                                     0.276190  \n",
       "Infantile Apparent Life-Threatening Event                                   1.000000  \n",
       "\n",
       "[327 rows x 327 columns]"
      ]
     },
     "execution_count": 8,
     "metadata": {},
     "output_type": "execute_result"
    }
   ],
   "source": [
    "df_new = pd.DataFrame(simi_mat, index=df.columns, columns=df.columns)\n",
    "df_new"
   ]
  },
  {
   "cell_type": "code",
   "execution_count": 9,
   "metadata": {},
   "outputs": [
    {
     "data": {
      "text/plain": [
       "'\\ncold start -->>\\ninitially symptoms are recommended according to frequency and acceptance rate. \\n\\nafter that --->>\\n\\nfor a particuler choosed symptom\\nwill try to find the best top 5 similar symtoms from similarity matrix, \\nif user pick only one symptom from the recommended symptoms say \"Pain \" --> \\nfind the best top 5 similar symtoms of pain from similarity matrix,\\n\\n\\nif user choose 2 or 3 symptom-->>\\nthen pick top 5 similar symptom for every choosed symptoms -->\\nsort them according to acceptance rate, then show top 5-6 symptoms \\n\\nthis process will go on, untill user stop ....\\n\\nAS WE GET MORE DATA, our similarity matrix and acceptence rate for each symptom will update with data. \\nthey get more alligned with data, the real users data. \\nand as our similarity matrix and acceptence rate upgrade with time, \\nour recommendation will improve with time.\\n\\n'"
      ]
     },
     "execution_count": 9,
     "metadata": {},
     "output_type": "execute_result"
    }
   ],
   "source": [
    "initial_syms_recommended = [\"Fever\", \"Nausea\", \"Cough\", \"Pain\", \"Muscle Weakness\", \"Vomiting\"]\n",
    "\n",
    "'''\n",
    "cold start -->>\n",
    "initially symptoms are recommended according to frequency and acceptance rate. \n",
    "\n",
    "after that --->>\n",
    "\n",
    "for a particuler choosed symptom\n",
    "will try to find the best top 5 similar symtoms from similarity matrix, \n",
    "if user pick only one symptom from the recommended symptoms say \"Pain \" --> \n",
    "find the best top 5 similar symtoms of pain from similarity matrix,\n",
    "\n",
    "\n",
    "if user choose 2 or 3 symptom-->>\n",
    "then pick top 5 similar symptom for every choosed symptoms -->\n",
    "sort them according to acceptance rate, then show top 5-6 symptoms \n",
    "\n",
    "this process will go on, untill user stop ....\n",
    "\n",
    "AS WE GET MORE DATA, our similarity matrix and acceptence rate for each symptom will update with data. \n",
    "they get more alligned with data, the real users data. \n",
    "and as our similarity matrix and acceptence rate upgrade with time, \n",
    "our recommendation will improve with time.\n",
    "\n",
    "'''"
   ]
  },
  {
   "cell_type": "code",
   "execution_count": 15,
   "metadata": {},
   "outputs": [
    {
     "data": {
      "text/plain": [
       "Age          0.0\n",
       "Pincode      0.0\n",
       "Weight       0.0\n",
       "Height       0.0\n",
       "Confusion    0.0\n",
       "Name: Fever, dtype: float64"
      ]
     },
     "execution_count": 15,
     "metadata": {},
     "output_type": "execute_result"
    }
   ],
   "source": [
    "## for fever \n",
    "#df_new[\"Fever\"].idxmax(axis=1)\n",
    "\n",
    "df_new[\"Fever\"].sort_values(inplace=False).head()\n"
   ]
  },
  {
   "cell_type": "code",
   "execution_count": 26,
   "metadata": {},
   "outputs": [
    {
     "data": {
      "text/plain": [
       "Fever                          1.000000\n",
       "Oliguria                       0.816667\n",
       "Mental Fatigue                 0.816667\n",
       "Deafness                       0.816667\n",
       "Stupor                         0.816667\n",
       "Psychophysiologic Disorders    0.666667\n",
       "Name: Fever, dtype: float64"
      ]
     },
     "execution_count": 26,
     "metadata": {},
     "output_type": "execute_result"
    }
   ],
   "source": [
    "ss = \"Anoxia\"\n",
    "df_new[ss].sort_values(ascending=False, inplace=False).head(6)\n",
    "dfs = df_new[\"Fever\"].sort_values(ascending=False, inplace=False).head(6)\n",
    "dfs"
   ]
  },
  {
   "cell_type": "code",
   "execution_count": 82,
   "metadata": {},
   "outputs": [
    {
     "data": {
      "text/plain": [
       "Anoxia                    1.000000\n",
       "Amnesia                   0.833333\n",
       "Cafe-au-Lait Spots        0.833333\n",
       "Hyperemesis Gravidarum    0.811111\n",
       "Dyspepsia                 0.700000\n",
       "Tics                      0.700000\n",
       "Name: Anoxia, dtype: float64"
      ]
     },
     "execution_count": 82,
     "metadata": {},
     "output_type": "execute_result"
    }
   ],
   "source": [
    "df_new[ss].sort_values(ascending=False, inplace=False).head(6)\n"
   ]
  },
  {
   "cell_type": "code",
   "execution_count": 81,
   "metadata": {},
   "outputs": [
    {
     "name": "stdout",
     "output_type": "stream",
     "text": [
      "['Fever', 'Nausea', 'Cough', 'Pain', 'Muscle Weakness', 'Vomiting']\n"
     ]
    },
    {
     "name": "stdin",
     "output_type": "stream",
     "text": [
      "\n",
      "enter number of Symptom U have :  2\n",
      "\n",
      "Type Symptom U have :  Pain\n",
      "\n",
      "Type Symptom U have :  Cough\n"
     ]
    },
    {
     "name": "stdout",
     "output_type": "stream",
     "text": [
      "\n",
      "--------------------------------------------------------------------------------------------------------------\n",
      "\n",
      "Do u have any other symptoms not shown above ...???? \n"
     ]
    },
    {
     "name": "stdin",
     "output_type": "stream",
     "text": [
      "\n",
      "Enter 1 for YES, 0 for NO --> \n",
      " 1\n"
     ]
    },
    {
     "name": "stdout",
     "output_type": "stream",
     "text": [
      "\n",
      "Next Similar symptoms that U may have --------->>>>>>>> \n",
      "\n",
      "['Amnesia, Transient Global', 'Dyslexia', 'Colic', 'Aging, Premature', 'Cough', 'Body Weight']\n"
     ]
    },
    {
     "name": "stdin",
     "output_type": "stream",
     "text": [
      "\n",
      "enter number of Symptom U have :  2\n",
      "\n",
      "Type Symptom U have :  Colic\n",
      "\n",
      "Type Symptom U have :  Dyslexia\n"
     ]
    },
    {
     "name": "stdout",
     "output_type": "stream",
     "text": [
      "\n",
      "--------------------------------------------------------------------------------------------------------------\n",
      "\n",
      "Do u have any other symptoms not shown above ...???? \n"
     ]
    },
    {
     "name": "stdin",
     "output_type": "stream",
     "text": [
      "\n",
      "Enter 1 for YES, 0 for NO --> \n",
      " 1\n"
     ]
    },
    {
     "name": "stdout",
     "output_type": "stream",
     "text": [
      "\n",
      "Next Similar symptoms that U may have --------->>>>>>>> \n",
      "\n",
      "['Hearing Loss, Unilateral', 'Eye Pain', 'Emaciation', 'Diarrhea', 'Sleep Deprivation', 'Purpura Fulminans']\n"
     ]
    },
    {
     "name": "stdin",
     "output_type": "stream",
     "text": [
      "\n",
      "enter number of Symptom U have :  1\n",
      "\n",
      "Type Symptom U have :  Eye Pain\n"
     ]
    },
    {
     "name": "stdout",
     "output_type": "stream",
     "text": [
      "\n",
      "--------------------------------------------------------------------------------------------------------------\n",
      "\n",
      "Do u have any other symptoms not shown above ...???? \n"
     ]
    },
    {
     "name": "stdin",
     "output_type": "stream",
     "text": [
      "\n",
      "Enter 1 for YES, 0 for NO --> \n",
      " 0\n"
     ]
    }
   ],
   "source": [
    "initial_syms_recommended = [\"Fever\", \"Nausea\", \"Cough\", \"Pain\", \"Muscle Weakness\", \"Vomiting\"]\n",
    "#print(\"Display : \\n\", initial_syms_recommended)\n",
    "list_to_show = initial_syms_recommended\n",
    "U_have_symptoms = True \n",
    "while(U_have_symptoms):\n",
    "    print(list_to_show[:6])\n",
    "    n =  int(input(\"\\nenter number of Symptom U have : \"))\n",
    "    list_of_symptoms_entered = []\n",
    "    for i in range(n):\n",
    "        sym = input(\"\\nType Symptom U have : \")\n",
    "        list_of_symptoms_entered.append(sym)\n",
    "    #df_sample = pd.DataFrame()\n",
    "    sample_dict = {}\n",
    "    for every_sym in list_of_symptoms_entered:\n",
    "        #list_to_show.extend(list(df_new[sym].sort_values(ascending=False, inplace=False).head(6).index)[1:]) ## 1 is itself\n",
    "        #df_required = df_new[sym].sort_values(ascending=False, inplace=False).head(6)\n",
    "        sample_dict.update(dict(df_new[every_sym].sort_values(ascending=False, inplace=False)[1:6]))\n",
    "    list_to_show = list(reversed(list(sample_dict)))\n",
    "    print(\"\\n--------------------------------------------------------------------------------------------------------------\")\n",
    "    #print(list_to_show[:8])\n",
    "    print(\"\\nDo u have any other symptoms not shown above ...???? \")\n",
    "    U_have_symptoms = int(input(\"\\nEnter 1 for YES, 0 for NO --> \\n\"))\n",
    "    if(U_have_symptoms):\n",
    "        print(\"\\nNext Similar symptoms that U may have --------->>>>>>>> \\n\")"
   ]
  },
  {
   "cell_type": "code",
   "execution_count": null,
   "metadata": {},
   "outputs": [],
   "source": []
  },
  {
   "cell_type": "code",
   "execution_count": null,
   "metadata": {},
   "outputs": [],
   "source": []
  },
  {
   "cell_type": "code",
   "execution_count": null,
   "metadata": {},
   "outputs": [],
   "source": []
  },
  {
   "cell_type": "code",
   "execution_count": null,
   "metadata": {},
   "outputs": [],
   "source": []
  },
  {
   "cell_type": "code",
   "execution_count": null,
   "metadata": {},
   "outputs": [],
   "source": []
  },
  {
   "cell_type": "code",
   "execution_count": 49,
   "metadata": {},
   "outputs": [
    {
     "data": {
      "text/html": [
       "<div>\n",
       "<style scoped>\n",
       "    .dataframe tbody tr th:only-of-type {\n",
       "        vertical-align: middle;\n",
       "    }\n",
       "\n",
       "    .dataframe tbody tr th {\n",
       "        vertical-align: top;\n",
       "    }\n",
       "\n",
       "    .dataframe thead th {\n",
       "        text-align: right;\n",
       "    }\n",
       "</style>\n",
       "<table border=\"1\" class=\"dataframe\">\n",
       "  <thead>\n",
       "    <tr style=\"text-align: right;\">\n",
       "      <th></th>\n",
       "      <th>Anoxia</th>\n",
       "      <th>Fever</th>\n",
       "    </tr>\n",
       "  </thead>\n",
       "  <tbody>\n",
       "    <tr>\n",
       "      <th>Amnesia</th>\n",
       "      <td>0.833333</td>\n",
       "      <td>NaN</td>\n",
       "    </tr>\n",
       "    <tr>\n",
       "      <th>Cafe-au-Lait Spots</th>\n",
       "      <td>0.833333</td>\n",
       "      <td>NaN</td>\n",
       "    </tr>\n",
       "    <tr>\n",
       "      <th>Hyperemesis Gravidarum</th>\n",
       "      <td>0.811111</td>\n",
       "      <td>NaN</td>\n",
       "    </tr>\n",
       "    <tr>\n",
       "      <th>Dyspepsia</th>\n",
       "      <td>0.700000</td>\n",
       "      <td>NaN</td>\n",
       "    </tr>\n",
       "    <tr>\n",
       "      <th>Tics</th>\n",
       "      <td>0.700000</td>\n",
       "      <td>NaN</td>\n",
       "    </tr>\n",
       "    <tr>\n",
       "      <th>Oliguria</th>\n",
       "      <td>NaN</td>\n",
       "      <td>0.816667</td>\n",
       "    </tr>\n",
       "    <tr>\n",
       "      <th>Mental Fatigue</th>\n",
       "      <td>NaN</td>\n",
       "      <td>0.816667</td>\n",
       "    </tr>\n",
       "    <tr>\n",
       "      <th>Deafness</th>\n",
       "      <td>NaN</td>\n",
       "      <td>0.816667</td>\n",
       "    </tr>\n",
       "    <tr>\n",
       "      <th>Stupor</th>\n",
       "      <td>NaN</td>\n",
       "      <td>0.816667</td>\n",
       "    </tr>\n",
       "    <tr>\n",
       "      <th>Psychophysiologic Disorders</th>\n",
       "      <td>NaN</td>\n",
       "      <td>0.666667</td>\n",
       "    </tr>\n",
       "  </tbody>\n",
       "</table>\n",
       "</div>"
      ],
      "text/plain": [
       "                               Anoxia     Fever\n",
       "Amnesia                      0.833333       NaN\n",
       "Cafe-au-Lait Spots           0.833333       NaN\n",
       "Hyperemesis Gravidarum       0.811111       NaN\n",
       "Dyspepsia                    0.700000       NaN\n",
       "Tics                         0.700000       NaN\n",
       "Oliguria                          NaN  0.816667\n",
       "Mental Fatigue                    NaN  0.816667\n",
       "Deafness                          NaN  0.816667\n",
       "Stupor                            NaN  0.816667\n",
       "Psychophysiologic Disorders       NaN  0.666667"
      ]
     },
     "execution_count": 49,
     "metadata": {},
     "output_type": "execute_result"
    }
   ],
   "source": [
    "df1 = df_new[ss].sort_values(ascending=False, inplace=False)[1:6]\n",
    "df2 = df_new[\"Fever\"].sort_values(ascending=False, inplace=False)[1:6]\n",
    "#df1.merge(df2)\n",
    "dfn = pd.concat([df1, df2], axis=1)\n",
    "df"
   ]
  },
  {
   "cell_type": "code",
   "execution_count": 68,
   "metadata": {},
   "outputs": [
    {
     "data": {
      "text/plain": [
       "(['Feminization',\n",
       "  'Stupor',\n",
       "  'Deafness',\n",
       "  'Mental Fatigue',\n",
       "  'Oliguria',\n",
       "  'Primary Progressive Nonfluent Aphasia',\n",
       "  'Facial Pain',\n",
       "  'Quadriplegia',\n",
       "  'Body Weight',\n",
       "  'Psychophysiologic Disorders'],\n",
       " {'Psychophysiologic Disorders': 0.6666666666666666,\n",
       "  'Body Weight': 0.7,\n",
       "  'Quadriplegia': 0.8142857142857143,\n",
       "  'Facial Pain': 0.8142857142857143,\n",
       "  'Primary Progressive Nonfluent Aphasia': 0.8142857142857143,\n",
       "  'Oliguria': 0.8166666666666668,\n",
       "  'Mental Fatigue': 0.8166666666666668,\n",
       "  'Deafness': 0.8166666666666668,\n",
       "  'Stupor': 0.8166666666666668,\n",
       "  'Feminization': 0.82})"
      ]
     },
     "execution_count": 68,
     "metadata": {},
     "output_type": "execute_result"
    }
   ],
   "source": [
    "dict1 = {}\n",
    "dict1.update(dict(df_new[\"Pain\"].sort_values(ascending=False, inplace=False)[1:6]))\n",
    "dict1.update(dict(df_new[\"Fever\"].sort_values(ascending=False, inplace=False)[1:6]))\n",
    "dictn = dict(sorted(dict1.items(), key=lambda item: item[1]))\n",
    "ll = list(reversed(list(dictn)))\n",
    "ll, dictn"
   ]
  },
  {
   "cell_type": "code",
   "execution_count": null,
   "metadata": {},
   "outputs": [],
   "source": []
  },
  {
   "cell_type": "code",
   "execution_count": null,
   "metadata": {},
   "outputs": [],
   "source": []
  },
  {
   "cell_type": "code",
   "execution_count": 34,
   "metadata": {},
   "outputs": [
    {
     "data": {
      "text/html": [
       "<div>\n",
       "<style scoped>\n",
       "    .dataframe tbody tr th:only-of-type {\n",
       "        vertical-align: middle;\n",
       "    }\n",
       "\n",
       "    .dataframe tbody tr th {\n",
       "        vertical-align: top;\n",
       "    }\n",
       "\n",
       "    .dataframe thead th {\n",
       "        text-align: right;\n",
       "    }\n",
       "</style>\n",
       "<table border=\"1\" class=\"dataframe\">\n",
       "  <thead>\n",
       "    <tr style=\"text-align: right;\">\n",
       "      <th></th>\n",
       "      <th>Age</th>\n",
       "      <th>Gender</th>\n",
       "      <th>Pincode</th>\n",
       "      <th>Weight</th>\n",
       "      <th>Height</th>\n",
       "      <th>Body Weight</th>\n",
       "      <th>Pain</th>\n",
       "      <th>Obesity</th>\n",
       "      <th>Anoxia</th>\n",
       "      <th>Mental Retardation</th>\n",
       "      <th>...</th>\n",
       "      <th>Susac Syndrome</th>\n",
       "      <th>Sweating Sickness</th>\n",
       "      <th>Primary Progressive Nonfluent Aphasia</th>\n",
       "      <th>Piriformis Muscle Syndrome</th>\n",
       "      <th>Striae Distensae</th>\n",
       "      <th>Alien Hand Syndrome</th>\n",
       "      <th>Necrolytic Migratory Erythema</th>\n",
       "      <th>Body Weight Changes</th>\n",
       "      <th>Slit Ventricle Syndrome</th>\n",
       "      <th>Infantile Apparent Life-Threatening Event</th>\n",
       "    </tr>\n",
       "  </thead>\n",
       "  <tbody>\n",
       "    <tr>\n",
       "      <th>1</th>\n",
       "      <td>20</td>\n",
       "      <td>0</td>\n",
       "      <td>110033</td>\n",
       "      <td>80</td>\n",
       "      <td>51</td>\n",
       "      <td>0</td>\n",
       "      <td>0</td>\n",
       "      <td>1</td>\n",
       "      <td>1</td>\n",
       "      <td>0</td>\n",
       "      <td>...</td>\n",
       "      <td>0</td>\n",
       "      <td>1</td>\n",
       "      <td>0</td>\n",
       "      <td>0</td>\n",
       "      <td>0</td>\n",
       "      <td>1</td>\n",
       "      <td>1</td>\n",
       "      <td>1</td>\n",
       "      <td>1</td>\n",
       "      <td>1</td>\n",
       "    </tr>\n",
       "    <tr>\n",
       "      <th>2</th>\n",
       "      <td>78</td>\n",
       "      <td>1</td>\n",
       "      <td>110014</td>\n",
       "      <td>100</td>\n",
       "      <td>115</td>\n",
       "      <td>0</td>\n",
       "      <td>0</td>\n",
       "      <td>1</td>\n",
       "      <td>0</td>\n",
       "      <td>1</td>\n",
       "      <td>...</td>\n",
       "      <td>1</td>\n",
       "      <td>0</td>\n",
       "      <td>0</td>\n",
       "      <td>0</td>\n",
       "      <td>1</td>\n",
       "      <td>1</td>\n",
       "      <td>1</td>\n",
       "      <td>0</td>\n",
       "      <td>0</td>\n",
       "      <td>1</td>\n",
       "    </tr>\n",
       "    <tr>\n",
       "      <th>3</th>\n",
       "      <td>23</td>\n",
       "      <td>0</td>\n",
       "      <td>110049</td>\n",
       "      <td>66</td>\n",
       "      <td>108</td>\n",
       "      <td>0</td>\n",
       "      <td>0</td>\n",
       "      <td>1</td>\n",
       "      <td>1</td>\n",
       "      <td>1</td>\n",
       "      <td>...</td>\n",
       "      <td>1</td>\n",
       "      <td>1</td>\n",
       "      <td>0</td>\n",
       "      <td>1</td>\n",
       "      <td>0</td>\n",
       "      <td>0</td>\n",
       "      <td>1</td>\n",
       "      <td>0</td>\n",
       "      <td>0</td>\n",
       "      <td>1</td>\n",
       "    </tr>\n",
       "    <tr>\n",
       "      <th>4</th>\n",
       "      <td>33</td>\n",
       "      <td>1</td>\n",
       "      <td>110025</td>\n",
       "      <td>79</td>\n",
       "      <td>110</td>\n",
       "      <td>1</td>\n",
       "      <td>1</td>\n",
       "      <td>0</td>\n",
       "      <td>1</td>\n",
       "      <td>1</td>\n",
       "      <td>...</td>\n",
       "      <td>0</td>\n",
       "      <td>1</td>\n",
       "      <td>0</td>\n",
       "      <td>0</td>\n",
       "      <td>1</td>\n",
       "      <td>1</td>\n",
       "      <td>0</td>\n",
       "      <td>0</td>\n",
       "      <td>1</td>\n",
       "      <td>1</td>\n",
       "    </tr>\n",
       "    <tr>\n",
       "      <th>5</th>\n",
       "      <td>29</td>\n",
       "      <td>0</td>\n",
       "      <td>110067</td>\n",
       "      <td>98</td>\n",
       "      <td>52</td>\n",
       "      <td>0</td>\n",
       "      <td>0</td>\n",
       "      <td>1</td>\n",
       "      <td>1</td>\n",
       "      <td>0</td>\n",
       "      <td>...</td>\n",
       "      <td>0</td>\n",
       "      <td>0</td>\n",
       "      <td>0</td>\n",
       "      <td>0</td>\n",
       "      <td>0</td>\n",
       "      <td>1</td>\n",
       "      <td>0</td>\n",
       "      <td>0</td>\n",
       "      <td>1</td>\n",
       "      <td>0</td>\n",
       "    </tr>\n",
       "  </tbody>\n",
       "</table>\n",
       "<p>5 rows × 327 columns</p>\n",
       "</div>"
      ],
      "text/plain": [
       "   Age  Gender  Pincode  Weight  Height  Body Weight  Pain  Obesity  Anoxia  \\\n",
       "1   20       0   110033      80      51            0     0        1       1   \n",
       "2   78       1   110014     100     115            0     0        1       0   \n",
       "3   23       0   110049      66     108            0     0        1       1   \n",
       "4   33       1   110025      79     110            1     1        0       1   \n",
       "5   29       0   110067      98      52            0     0        1       1   \n",
       "\n",
       "   Mental Retardation  ...  Susac Syndrome  Sweating Sickness  \\\n",
       "1                   0  ...               0                  1   \n",
       "2                   1  ...               1                  0   \n",
       "3                   1  ...               1                  1   \n",
       "4                   1  ...               0                  1   \n",
       "5                   0  ...               0                  0   \n",
       "\n",
       "   Primary Progressive Nonfluent Aphasia  Piriformis Muscle Syndrome  \\\n",
       "1                                      0                           0   \n",
       "2                                      0                           0   \n",
       "3                                      0                           1   \n",
       "4                                      0                           0   \n",
       "5                                      0                           0   \n",
       "\n",
       "   Striae Distensae  Alien Hand Syndrome  Necrolytic Migratory Erythema  \\\n",
       "1                 0                    1                              1   \n",
       "2                 1                    1                              1   \n",
       "3                 0                    0                              1   \n",
       "4                 1                    1                              0   \n",
       "5                 0                    1                              0   \n",
       "\n",
       "   Body Weight Changes  Slit Ventricle Syndrome  \\\n",
       "1                    1                        1   \n",
       "2                    0                        0   \n",
       "3                    0                        0   \n",
       "4                    0                        1   \n",
       "5                    0                        1   \n",
       "\n",
       "   Infantile Apparent Life-Threatening Event  \n",
       "1                                          1  \n",
       "2                                          1  \n",
       "3                                          1  \n",
       "4                                          1  \n",
       "5                                          0  \n",
       "\n",
       "[5 rows x 327 columns]"
      ]
     },
     "execution_count": 34,
     "metadata": {},
     "output_type": "execute_result"
    }
   ],
   "source": [
    "df[:5]"
   ]
  },
  {
   "cell_type": "code",
   "execution_count": null,
   "metadata": {},
   "outputs": [],
   "source": []
  },
  {
   "cell_type": "code",
   "execution_count": null,
   "metadata": {},
   "outputs": [],
   "source": []
  },
  {
   "cell_type": "code",
   "execution_count": null,
   "metadata": {},
   "outputs": [],
   "source": []
  },
  {
   "cell_type": "code",
   "execution_count": null,
   "metadata": {},
   "outputs": [],
   "source": [
    "//MY CODE"
   ]
  },
  {
   "cell_type": "code",
   "execution_count": 35,
   "metadata": {},
   "outputs": [],
   "source": [
    "from sklearn.cluster import KMeans\n",
    "import pandas as pd\n",
    "from sklearn.preprocessing import MinMaxScaler\n",
    "from matplotlib import pyplot as plt\n",
    "%matplotlib inline"
   ]
  },
  {
   "cell_type": "code",
   "execution_count": 39,
   "metadata": {},
   "outputs": [
    {
     "data": {
      "text/html": [
       "<div>\n",
       "<style scoped>\n",
       "    .dataframe tbody tr th:only-of-type {\n",
       "        vertical-align: middle;\n",
       "    }\n",
       "\n",
       "    .dataframe tbody tr th {\n",
       "        vertical-align: top;\n",
       "    }\n",
       "\n",
       "    .dataframe thead th {\n",
       "        text-align: right;\n",
       "    }\n",
       "</style>\n",
       "<table border=\"1\" class=\"dataframe\">\n",
       "  <thead>\n",
       "    <tr style=\"text-align: right;\">\n",
       "      <th></th>\n",
       "      <th>Age</th>\n",
       "      <th>Gender</th>\n",
       "      <th>Pincode</th>\n",
       "      <th>Weight</th>\n",
       "      <th>Height</th>\n",
       "      <th>MeSH Symptom Term</th>\n",
       "    </tr>\n",
       "  </thead>\n",
       "  <tbody>\n",
       "    <tr>\n",
       "      <th>1</th>\n",
       "      <td>46.0</td>\n",
       "      <td>1.0</td>\n",
       "      <td>110098.0</td>\n",
       "      <td>111.0</td>\n",
       "      <td>89.0</td>\n",
       "      <td>NaN</td>\n",
       "    </tr>\n",
       "    <tr>\n",
       "      <th>2</th>\n",
       "      <td>22.0</td>\n",
       "      <td>0.0</td>\n",
       "      <td>110040.0</td>\n",
       "      <td>85.0</td>\n",
       "      <td>88.0</td>\n",
       "      <td>NaN</td>\n",
       "    </tr>\n",
       "    <tr>\n",
       "      <th>3</th>\n",
       "      <td>35.0</td>\n",
       "      <td>1.0</td>\n",
       "      <td>110095.0</td>\n",
       "      <td>24.0</td>\n",
       "      <td>141.0</td>\n",
       "      <td>NaN</td>\n",
       "    </tr>\n",
       "    <tr>\n",
       "      <th>4</th>\n",
       "      <td>92.0</td>\n",
       "      <td>1.0</td>\n",
       "      <td>110069.0</td>\n",
       "      <td>95.0</td>\n",
       "      <td>84.0</td>\n",
       "      <td>NaN</td>\n",
       "    </tr>\n",
       "    <tr>\n",
       "      <th>5</th>\n",
       "      <td>10.0</td>\n",
       "      <td>1.0</td>\n",
       "      <td>110030.0</td>\n",
       "      <td>114.0</td>\n",
       "      <td>88.0</td>\n",
       "      <td>NaN</td>\n",
       "    </tr>\n",
       "    <tr>\n",
       "      <th>6</th>\n",
       "      <td>88.0</td>\n",
       "      <td>0.0</td>\n",
       "      <td>110033.0</td>\n",
       "      <td>103.0</td>\n",
       "      <td>57.0</td>\n",
       "      <td>NaN</td>\n",
       "    </tr>\n",
       "    <tr>\n",
       "      <th>7</th>\n",
       "      <td>55.0</td>\n",
       "      <td>1.0</td>\n",
       "      <td>110092.0</td>\n",
       "      <td>72.0</td>\n",
       "      <td>99.0</td>\n",
       "      <td>NaN</td>\n",
       "    </tr>\n",
       "    <tr>\n",
       "      <th>8</th>\n",
       "      <td>39.0</td>\n",
       "      <td>1.0</td>\n",
       "      <td>110079.0</td>\n",
       "      <td>78.0</td>\n",
       "      <td>114.0</td>\n",
       "      <td>NaN</td>\n",
       "    </tr>\n",
       "    <tr>\n",
       "      <th>9</th>\n",
       "      <td>31.0</td>\n",
       "      <td>0.0</td>\n",
       "      <td>110093.0</td>\n",
       "      <td>77.0</td>\n",
       "      <td>77.0</td>\n",
       "      <td>NaN</td>\n",
       "    </tr>\n",
       "    <tr>\n",
       "      <th>10</th>\n",
       "      <td>36.0</td>\n",
       "      <td>0.0</td>\n",
       "      <td>110084.0</td>\n",
       "      <td>32.0</td>\n",
       "      <td>105.0</td>\n",
       "      <td>NaN</td>\n",
       "    </tr>\n",
       "  </tbody>\n",
       "</table>\n",
       "</div>"
      ],
      "text/plain": [
       "     Age  Gender   Pincode  Weight  Height MeSH Symptom Term\n",
       "1   46.0     1.0  110098.0   111.0    89.0               NaN\n",
       "2   22.0     0.0  110040.0    85.0    88.0               NaN\n",
       "3   35.0     1.0  110095.0    24.0   141.0               NaN\n",
       "4   92.0     1.0  110069.0    95.0    84.0               NaN\n",
       "5   10.0     1.0  110030.0   114.0    88.0               NaN\n",
       "6   88.0     0.0  110033.0   103.0    57.0               NaN\n",
       "7   55.0     1.0  110092.0    72.0    99.0               NaN\n",
       "8   39.0     1.0  110079.0    78.0   114.0               NaN\n",
       "9   31.0     0.0  110093.0    77.0    77.0               NaN\n",
       "10  36.0     0.0  110084.0    32.0   105.0               NaN"
      ]
     },
     "execution_count": 39,
     "metadata": {},
     "output_type": "execute_result"
    }
   ],
   "source": [
    "mergedf.head(10)"
   ]
  },
  {
   "cell_type": "code",
   "execution_count": 40,
   "metadata": {},
   "outputs": [
    {
     "data": {
      "text/plain": [
       "Text(0, 0.5, 'Pincode')"
      ]
     },
     "execution_count": 40,
     "metadata": {},
     "output_type": "execute_result"
    },
    {
     "data": {
      "image/png": "[encoded data removed]",
      "text/plain": [
       "<Figure size 432x288 with 1 Axes>"
      ]
     },
     "metadata": {
      "needs_background": "light"
     },
     "output_type": "display_data"
    }
   ],
   "source": [
    "plt.scatter(df.Age,df['Pincode'])\n",
    "plt.xlabel('Age')\n",
    "plt.ylabel('Pincode')"
   ]
  },
  {
   "cell_type": "code",
   "execution_count": 41,
   "metadata": {},
   "outputs": [
    {
     "data": {
      "text/plain": [
       "array([0, 2, 0, 1, 2, 1, 0, 0, 0, 0, 2, 0, 1, 2, 0, 0, 2, 0, 1, 0, 1, 2,\n",
       "       0, 1, 0, 0, 0, 2, 0, 2, 2, 1, 2, 2, 1, 0, 1, 0, 0, 1, 2, 2, 2, 0,\n",
       "       2, 0, 0, 0, 1, 1, 1, 1, 0, 0, 1, 1, 0, 1, 1, 1, 1, 1, 0, 0, 1, 1,\n",
       "       2, 1, 1, 1, 2, 1, 1, 1, 0, 1, 2, 0, 0, 2, 1, 0, 2, 0, 1, 0, 2, 1,\n",
       "       2, 2, 1, 1, 1, 0, 0, 0, 2, 1, 1, 1, 1, 2, 0, 0, 2, 1, 1, 1, 1, 2,\n",
       "       0, 2, 2, 2, 1, 2, 1, 0, 0, 2, 1, 0, 2, 2, 1, 2, 0, 1, 2, 2, 2, 2,\n",
       "       2, 1, 0, 1, 2, 1, 2, 2, 0, 0, 1, 1, 2, 1, 1, 2, 2, 2, 1, 1, 1, 0,\n",
       "       2, 2, 1, 2, 0, 0, 2, 1, 2, 1, 2, 0, 2, 2, 1, 0, 1, 1, 2, 2, 2, 1,\n",
       "       1, 2, 2, 2, 1, 2, 1, 0, 1, 0, 1, 2, 2, 1, 2, 2, 1, 2, 2, 0, 0, 0,\n",
       "       0, 0, 1, 2, 1, 1, 1, 1, 2, 1, 2, 1, 2, 2, 1, 2, 1, 0, 1, 1, 2, 1,\n",
       "       1, 1, 2, 1, 1, 2, 0, 0, 1, 1, 2, 2, 0, 2, 2, 1, 2, 1, 2, 1, 0, 0,\n",
       "       1, 2, 2, 1, 1, 2, 2, 0, 0, 1, 0, 2, 0, 1, 0, 1, 2, 1, 2, 1, 0, 0,\n",
       "       0, 1, 1, 1, 2, 1, 2, 2, 1, 0, 2, 0, 1, 0, 1, 2, 2, 0, 2, 0, 2, 2,\n",
       "       1, 0, 0, 1, 1, 2, 1, 0, 1, 1, 1, 1, 2, 1, 1, 2, 1, 0, 1, 1, 0, 1,\n",
       "       2, 2, 1, 0, 1, 1, 1, 1, 2, 1, 0, 0, 2, 0])"
      ]
     },
     "execution_count": 41,
     "metadata": {},
     "output_type": "execute_result"
    }
   ],
   "source": [
    "km = KMeans(n_clusters=3)\n",
    "y_predicted = km.fit_predict(df[['Age','Pincode']])\n",
    "y_predicted"
   ]
  },
  {
   "cell_type": "code",
   "execution_count": 42,
   "metadata": {},
   "outputs": [
    {
     "ename": "ValueError",
     "evalue": "Length of values (322) does not match length of index (644)",
     "output_type": "error",
     "traceback": [
      "\u001b[1;31m---------------------------------------------------------------------------\u001b[0m",
      "\u001b[1;31mValueError\u001b[0m                                Traceback (most recent call last)",
      "\u001b[1;32m<ipython-input-42-5e338a8b36d5>\u001b[0m in \u001b[0;36m<module>\u001b[1;34m\u001b[0m\n\u001b[1;32m----> 1\u001b[1;33m \u001b[0mmergedf\u001b[0m\u001b[1;33m[\u001b[0m\u001b[1;34m'cluster'\u001b[0m\u001b[1;33m]\u001b[0m\u001b[1;33m=\u001b[0m\u001b[0my_predicted\u001b[0m\u001b[1;33m\u001b[0m\u001b[1;33m\u001b[0m\u001b[0m\n\u001b[0m\u001b[0;32m      2\u001b[0m \u001b[0mmergedf\u001b[0m\u001b[1;33m.\u001b[0m\u001b[0mhead\u001b[0m\u001b[1;33m(\u001b[0m\u001b[1;33m)\u001b[0m\u001b[1;33m\u001b[0m\u001b[1;33m\u001b[0m\u001b[0m\n",
      "\u001b[1;32m~\\anaconda3\\lib\\site-packages\\pandas\\core\\frame.py\u001b[0m in \u001b[0;36m__setitem__\u001b[1;34m(self, key, value)\u001b[0m\n\u001b[0;32m   3038\u001b[0m         \u001b[1;32melse\u001b[0m\u001b[1;33m:\u001b[0m\u001b[1;33m\u001b[0m\u001b[1;33m\u001b[0m\u001b[0m\n\u001b[0;32m   3039\u001b[0m             \u001b[1;31m# set column\u001b[0m\u001b[1;33m\u001b[0m\u001b[1;33m\u001b[0m\u001b[1;33m\u001b[0m\u001b[0m\n\u001b[1;32m-> 3040\u001b[1;33m             \u001b[0mself\u001b[0m\u001b[1;33m.\u001b[0m\u001b[0m_set_item\u001b[0m\u001b[1;33m(\u001b[0m\u001b[0mkey\u001b[0m\u001b[1;33m,\u001b[0m \u001b[0mvalue\u001b[0m\u001b[1;33m)\u001b[0m\u001b[1;33m\u001b[0m\u001b[1;33m\u001b[0m\u001b[0m\n\u001b[0m\u001b[0;32m   3041\u001b[0m \u001b[1;33m\u001b[0m\u001b[0m\n\u001b[0;32m   3042\u001b[0m     \u001b[1;32mdef\u001b[0m \u001b[0m_setitem_slice\u001b[0m\u001b[1;33m(\u001b[0m\u001b[0mself\u001b[0m\u001b[1;33m,\u001b[0m \u001b[0mkey\u001b[0m\u001b[1;33m:\u001b[0m \u001b[0mslice\u001b[0m\u001b[1;33m,\u001b[0m \u001b[0mvalue\u001b[0m\u001b[1;33m)\u001b[0m\u001b[1;33m:\u001b[0m\u001b[1;33m\u001b[0m\u001b[1;33m\u001b[0m\u001b[0m\n",
      "\u001b[1;32m~\\anaconda3\\lib\\site-packages\\pandas\\core\\frame.py\u001b[0m in \u001b[0;36m_set_item\u001b[1;34m(self, key, value)\u001b[0m\n\u001b[0;32m   3114\u001b[0m         \"\"\"\n\u001b[0;32m   3115\u001b[0m         \u001b[0mself\u001b[0m\u001b[1;33m.\u001b[0m\u001b[0m_ensure_valid_index\u001b[0m\u001b[1;33m(\u001b[0m\u001b[0mvalue\u001b[0m\u001b[1;33m)\u001b[0m\u001b[1;33m\u001b[0m\u001b[1;33m\u001b[0m\u001b[0m\n\u001b[1;32m-> 3116\u001b[1;33m         \u001b[0mvalue\u001b[0m \u001b[1;33m=\u001b[0m \u001b[0mself\u001b[0m\u001b[1;33m.\u001b[0m\u001b[0m_sanitize_column\u001b[0m\u001b[1;33m(\u001b[0m\u001b[0mkey\u001b[0m\u001b[1;33m,\u001b[0m \u001b[0mvalue\u001b[0m\u001b[1;33m)\u001b[0m\u001b[1;33m\u001b[0m\u001b[1;33m\u001b[0m\u001b[0m\n\u001b[0m\u001b[0;32m   3117\u001b[0m         \u001b[0mNDFrame\u001b[0m\u001b[1;33m.\u001b[0m\u001b[0m_set_item\u001b[0m\u001b[1;33m(\u001b[0m\u001b[0mself\u001b[0m\u001b[1;33m,\u001b[0m \u001b[0mkey\u001b[0m\u001b[1;33m,\u001b[0m \u001b[0mvalue\u001b[0m\u001b[1;33m)\u001b[0m\u001b[1;33m\u001b[0m\u001b[1;33m\u001b[0m\u001b[0m\n\u001b[0;32m   3118\u001b[0m \u001b[1;33m\u001b[0m\u001b[0m\n",
      "\u001b[1;32m~\\anaconda3\\lib\\site-packages\\pandas\\core\\frame.py\u001b[0m in \u001b[0;36m_sanitize_column\u001b[1;34m(self, key, value, broadcast)\u001b[0m\n\u001b[0;32m   3762\u001b[0m \u001b[1;33m\u001b[0m\u001b[0m\n\u001b[0;32m   3763\u001b[0m             \u001b[1;31m# turn me into an ndarray\u001b[0m\u001b[1;33m\u001b[0m\u001b[1;33m\u001b[0m\u001b[1;33m\u001b[0m\u001b[0m\n\u001b[1;32m-> 3764\u001b[1;33m             \u001b[0mvalue\u001b[0m \u001b[1;33m=\u001b[0m \u001b[0msanitize_index\u001b[0m\u001b[1;33m(\u001b[0m\u001b[0mvalue\u001b[0m\u001b[1;33m,\u001b[0m \u001b[0mself\u001b[0m\u001b[1;33m.\u001b[0m\u001b[0mindex\u001b[0m\u001b[1;33m)\u001b[0m\u001b[1;33m\u001b[0m\u001b[1;33m\u001b[0m\u001b[0m\n\u001b[0m\u001b[0;32m   3765\u001b[0m             \u001b[1;32mif\u001b[0m \u001b[1;32mnot\u001b[0m \u001b[0misinstance\u001b[0m\u001b[1;33m(\u001b[0m\u001b[0mvalue\u001b[0m\u001b[1;33m,\u001b[0m \u001b[1;33m(\u001b[0m\u001b[0mnp\u001b[0m\u001b[1;33m.\u001b[0m\u001b[0mndarray\u001b[0m\u001b[1;33m,\u001b[0m \u001b[0mIndex\u001b[0m\u001b[1;33m)\u001b[0m\u001b[1;33m)\u001b[0m\u001b[1;33m:\u001b[0m\u001b[1;33m\u001b[0m\u001b[1;33m\u001b[0m\u001b[0m\n\u001b[0;32m   3766\u001b[0m                 \u001b[1;32mif\u001b[0m \u001b[0misinstance\u001b[0m\u001b[1;33m(\u001b[0m\u001b[0mvalue\u001b[0m\u001b[1;33m,\u001b[0m \u001b[0mlist\u001b[0m\u001b[1;33m)\u001b[0m \u001b[1;32mand\u001b[0m \u001b[0mlen\u001b[0m\u001b[1;33m(\u001b[0m\u001b[0mvalue\u001b[0m\u001b[1;33m)\u001b[0m \u001b[1;33m>\u001b[0m \u001b[1;36m0\u001b[0m\u001b[1;33m:\u001b[0m\u001b[1;33m\u001b[0m\u001b[1;33m\u001b[0m\u001b[0m\n",
      "\u001b[1;32m~\\anaconda3\\lib\\site-packages\\pandas\\core\\internals\\construction.py\u001b[0m in \u001b[0;36msanitize_index\u001b[1;34m(data, index)\u001b[0m\n\u001b[0;32m    745\u001b[0m     \"\"\"\n\u001b[0;32m    746\u001b[0m     \u001b[1;32mif\u001b[0m \u001b[0mlen\u001b[0m\u001b[1;33m(\u001b[0m\u001b[0mdata\u001b[0m\u001b[1;33m)\u001b[0m \u001b[1;33m!=\u001b[0m \u001b[0mlen\u001b[0m\u001b[1;33m(\u001b[0m\u001b[0mindex\u001b[0m\u001b[1;33m)\u001b[0m\u001b[1;33m:\u001b[0m\u001b[1;33m\u001b[0m\u001b[1;33m\u001b[0m\u001b[0m\n\u001b[1;32m--> 747\u001b[1;33m         raise ValueError(\n\u001b[0m\u001b[0;32m    748\u001b[0m             \u001b[1;34m\"Length of values \"\u001b[0m\u001b[1;33m\u001b[0m\u001b[1;33m\u001b[0m\u001b[0m\n\u001b[0;32m    749\u001b[0m             \u001b[1;34mf\"({len(data)}) \"\u001b[0m\u001b[1;33m\u001b[0m\u001b[1;33m\u001b[0m\u001b[0m\n",
      "\u001b[1;31mValueError\u001b[0m: Length of values (322) does not match length of index (644)"
     ]
    }
   ],
   "source": [
    "mergedf['cluster']=y_predicted\n",
    "mergedf.head()"
   ]
  },
  {
   "cell_type": "code",
   "execution_count": 8,
   "metadata": {},
   "outputs": [
    {
     "data": {
      "text/plain": [
       "array([[1.03333333e+01, 1.10040333e+05],\n",
       "       [8.46666667e+01, 1.10022000e+05],\n",
       "       [6.35000000e+01, 1.10069000e+05]])"
      ]
     },
     "execution_count": 8,
     "metadata": {},
     "output_type": "execute_result"
    }
   ],
   "source": [
    "km.cluster_centers_"
   ]
  },
  {
   "cell_type": "code",
   "execution_count": 9,
   "metadata": {},
   "outputs": [
    {
     "data": {
      "text/plain": [
       "<matplotlib.legend.Legend at 0x1fa462ded90>"
      ]
     },
     "execution_count": 9,
     "metadata": {},
     "output_type": "execute_result"
    },
    {
     "data": {
      "image/png": "[encoded data removed]",
      "text/plain": [
       "<Figure size 432x288 with 1 Axes>"
      ]
     },
     "metadata": {
      "needs_background": "light"
     },
     "output_type": "display_data"
    }
   ],
   "source": [
    "df1 = df[df.cluster==0]\n",
    "df2 = df[df.cluster==1]\n",
    "df3 = df[df.cluster==2]\n",
    "plt.scatter(df1.Age,df1['Pincode'],color='green')\n",
    "plt.scatter(df2.Age,df2['Pincode'],color='red')\n",
    "plt.scatter(df3.Age,df3['Pincode'],color='black')\n",
    "plt.scatter(km.cluster_centers_[:,0],km.cluster_centers_[:,1],color='purple',marker='*',label='centroid')\n",
    "plt.xlabel('Age')\n",
    "plt.ylabel('Pincode')\n",
    "plt.legend()"
   ]
  },
  {
   "cell_type": "code",
   "execution_count": 26,
   "metadata": {},
   "outputs": [
    {
     "data": {
      "text/plain": [
       "MeSH Symptom Term\n",
       "Abdomen, Acute            NaN\n",
       "Abdominal Pain            NaN\n",
       "Acute Coronary Syndrome   NaN\n",
       "Aerophagy                 NaN\n",
       "Ageusia                   NaN\n",
       "Name: Pincode, dtype: float64"
      ]
     },
     "execution_count": 26,
     "metadata": {},
     "output_type": "execute_result"
    }
   ],
   "source": [
    "mergedf.groupby('MeSH Symptom Term')['Pincode'].mean().sort_values(ascending=False).head()"
   ]
  },
  {
   "cell_type": "code",
   "execution_count": 27,
   "metadata": {},
   "outputs": [
    {
     "data": {
      "text/html": [
       "<div>\n",
       "<style scoped>\n",
       "    .dataframe tbody tr th:only-of-type {\n",
       "        vertical-align: middle;\n",
       "    }\n",
       "\n",
       "    .dataframe tbody tr th {\n",
       "        vertical-align: top;\n",
       "    }\n",
       "\n",
       "    .dataframe thead th {\n",
       "        text-align: right;\n",
       "    }\n",
       "</style>\n",
       "<table border=\"1\" class=\"dataframe\">\n",
       "  <thead>\n",
       "    <tr style=\"text-align: right;\">\n",
       "      <th></th>\n",
       "      <th>Pincode</th>\n",
       "    </tr>\n",
       "    <tr>\n",
       "      <th>MeSH Symptom Term</th>\n",
       "      <th></th>\n",
       "    </tr>\n",
       "  </thead>\n",
       "  <tbody>\n",
       "    <tr>\n",
       "      <th>Abdomen, Acute</th>\n",
       "      <td>NaN</td>\n",
       "    </tr>\n",
       "    <tr>\n",
       "      <th>Abdominal Pain</th>\n",
       "      <td>NaN</td>\n",
       "    </tr>\n",
       "    <tr>\n",
       "      <th>Acute Coronary Syndrome</th>\n",
       "      <td>NaN</td>\n",
       "    </tr>\n",
       "    <tr>\n",
       "      <th>Aerophagy</th>\n",
       "      <td>NaN</td>\n",
       "    </tr>\n",
       "    <tr>\n",
       "      <th>Ageusia</th>\n",
       "      <td>NaN</td>\n",
       "    </tr>\n",
       "  </tbody>\n",
       "</table>\n",
       "</div>"
      ],
      "text/plain": [
       "                         Pincode\n",
       "MeSH Symptom Term               \n",
       "Abdomen, Acute               NaN\n",
       "Abdominal Pain               NaN\n",
       "Acute Coronary Syndrome      NaN\n",
       "Aerophagy                    NaN\n",
       "Ageusia                      NaN"
      ]
     },
     "execution_count": 27,
     "metadata": {},
     "output_type": "execute_result"
    }
   ],
   "source": [
    "price = pd.DataFrame(mergedf.groupby('MeSH Symptom Term')['Pincode'].mean())\n",
    "price.head()"
   ]
  },
  {
   "cell_type": "code",
   "execution_count": 28,
   "metadata": {},
   "outputs": [],
   "source": [
    "from scipy.sparse import csr_matrix\n",
    "\n",
    "price_df_matrix = csr_matrix(price.values)"
   ]
  },
  {
   "cell_type": "code",
   "execution_count": 29,
   "metadata": {},
   "outputs": [
    {
     "ename": "ValueError",
     "evalue": "Input contains NaN, infinity or a value too large for dtype('float64').",
     "output_type": "error",
     "traceback": [
      "\u001b[1;31m---------------------------------------------------------------------------\u001b[0m",
      "\u001b[1;31mValueError\u001b[0m                                Traceback (most recent call last)",
      "\u001b[1;32m<ipython-input-29-dc38138d9d32>\u001b[0m in \u001b[0;36m<module>\u001b[1;34m\u001b[0m\n\u001b[0;32m      2\u001b[0m \u001b[1;33m\u001b[0m\u001b[0m\n\u001b[0;32m      3\u001b[0m \u001b[0mmodel_knn\u001b[0m \u001b[1;33m=\u001b[0m \u001b[0mNearestNeighbors\u001b[0m\u001b[1;33m(\u001b[0m\u001b[0mmetric\u001b[0m \u001b[1;33m=\u001b[0m \u001b[1;34m'cosine'\u001b[0m\u001b[1;33m,\u001b[0m \u001b[0malgorithm\u001b[0m \u001b[1;33m=\u001b[0m \u001b[1;34m'brute'\u001b[0m\u001b[1;33m)\u001b[0m\u001b[1;33m\u001b[0m\u001b[1;33m\u001b[0m\u001b[0m\n\u001b[1;32m----> 4\u001b[1;33m \u001b[0mmodel_knn\u001b[0m\u001b[1;33m.\u001b[0m\u001b[0mfit\u001b[0m\u001b[1;33m(\u001b[0m\u001b[0mprice_df_matrix\u001b[0m\u001b[1;33m)\u001b[0m\u001b[1;33m\u001b[0m\u001b[1;33m\u001b[0m\u001b[0m\n\u001b[0m",
      "\u001b[1;32m~\\anaconda3\\lib\\site-packages\\sklearn\\neighbors\\_base.py\u001b[0m in \u001b[0;36mfit\u001b[1;34m(self, X, y)\u001b[0m\n\u001b[0;32m   1171\u001b[0m             \u001b[1;32mor\u001b[0m \u001b[1;33m[\u001b[0m\u001b[0mn_samples\u001b[0m\u001b[1;33m,\u001b[0m \u001b[0mn_samples\u001b[0m\u001b[1;33m]\u001b[0m \u001b[1;32mif\u001b[0m \u001b[0mmetric\u001b[0m\u001b[1;33m=\u001b[0m\u001b[1;34m'precomputed'\u001b[0m\u001b[1;33m.\u001b[0m\u001b[1;33m\u001b[0m\u001b[1;33m\u001b[0m\u001b[0m\n\u001b[0;32m   1172\u001b[0m         \"\"\"\n\u001b[1;32m-> 1173\u001b[1;33m         \u001b[1;32mreturn\u001b[0m \u001b[0mself\u001b[0m\u001b[1;33m.\u001b[0m\u001b[0m_fit\u001b[0m\u001b[1;33m(\u001b[0m\u001b[0mX\u001b[0m\u001b[1;33m)\u001b[0m\u001b[1;33m\u001b[0m\u001b[1;33m\u001b[0m\u001b[0m\n\u001b[0m",
      "\u001b[1;32m~\\anaconda3\\lib\\site-packages\\sklearn\\neighbors\\_base.py\u001b[0m in \u001b[0;36m_fit\u001b[1;34m(self, X)\u001b[0m\n\u001b[0;32m    399\u001b[0m             \u001b[0mself\u001b[0m\u001b[1;33m.\u001b[0m\u001b[0mn_features_in_\u001b[0m \u001b[1;33m=\u001b[0m \u001b[0mX\u001b[0m\u001b[1;33m.\u001b[0m\u001b[0mshape\u001b[0m\u001b[1;33m[\u001b[0m\u001b[1;36m1\u001b[0m\u001b[1;33m]\u001b[0m\u001b[1;33m\u001b[0m\u001b[1;33m\u001b[0m\u001b[0m\n\u001b[0;32m    400\u001b[0m         \u001b[1;32melse\u001b[0m\u001b[1;33m:\u001b[0m\u001b[1;33m\u001b[0m\u001b[1;33m\u001b[0m\u001b[0m\n\u001b[1;32m--> 401\u001b[1;33m             \u001b[0mX\u001b[0m \u001b[1;33m=\u001b[0m \u001b[0mself\u001b[0m\u001b[1;33m.\u001b[0m\u001b[0m_validate_data\u001b[0m\u001b[1;33m(\u001b[0m\u001b[0mX\u001b[0m\u001b[1;33m,\u001b[0m \u001b[0maccept_sparse\u001b[0m\u001b[1;33m=\u001b[0m\u001b[1;34m'csr'\u001b[0m\u001b[1;33m)\u001b[0m\u001b[1;33m\u001b[0m\u001b[1;33m\u001b[0m\u001b[0m\n\u001b[0m\u001b[0;32m    402\u001b[0m \u001b[1;33m\u001b[0m\u001b[0m\n\u001b[0;32m    403\u001b[0m         \u001b[0mn_samples\u001b[0m \u001b[1;33m=\u001b[0m \u001b[0mX\u001b[0m\u001b[1;33m.\u001b[0m\u001b[0mshape\u001b[0m\u001b[1;33m[\u001b[0m\u001b[1;36m0\u001b[0m\u001b[1;33m]\u001b[0m\u001b[1;33m\u001b[0m\u001b[1;33m\u001b[0m\u001b[0m\n",
      "\u001b[1;32m~\\anaconda3\\lib\\site-packages\\sklearn\\base.py\u001b[0m in \u001b[0;36m_validate_data\u001b[1;34m(self, X, y, reset, validate_separately, **check_params)\u001b[0m\n\u001b[0;32m    418\u001b[0m                     \u001b[1;34mf\"requires y to be passed, but the target y is None.\"\u001b[0m\u001b[1;33m\u001b[0m\u001b[1;33m\u001b[0m\u001b[0m\n\u001b[0;32m    419\u001b[0m                 )\n\u001b[1;32m--> 420\u001b[1;33m             \u001b[0mX\u001b[0m \u001b[1;33m=\u001b[0m \u001b[0mcheck_array\u001b[0m\u001b[1;33m(\u001b[0m\u001b[0mX\u001b[0m\u001b[1;33m,\u001b[0m \u001b[1;33m**\u001b[0m\u001b[0mcheck_params\u001b[0m\u001b[1;33m)\u001b[0m\u001b[1;33m\u001b[0m\u001b[1;33m\u001b[0m\u001b[0m\n\u001b[0m\u001b[0;32m    421\u001b[0m             \u001b[0mout\u001b[0m \u001b[1;33m=\u001b[0m \u001b[0mX\u001b[0m\u001b[1;33m\u001b[0m\u001b[1;33m\u001b[0m\u001b[0m\n\u001b[0;32m    422\u001b[0m         \u001b[1;32melse\u001b[0m\u001b[1;33m:\u001b[0m\u001b[1;33m\u001b[0m\u001b[1;33m\u001b[0m\u001b[0m\n",
      "\u001b[1;32m~\\anaconda3\\lib\\site-packages\\sklearn\\utils\\validation.py\u001b[0m in \u001b[0;36minner_f\u001b[1;34m(*args, **kwargs)\u001b[0m\n\u001b[0;32m     70\u001b[0m                           FutureWarning)\n\u001b[0;32m     71\u001b[0m         \u001b[0mkwargs\u001b[0m\u001b[1;33m.\u001b[0m\u001b[0mupdate\u001b[0m\u001b[1;33m(\u001b[0m\u001b[1;33m{\u001b[0m\u001b[0mk\u001b[0m\u001b[1;33m:\u001b[0m \u001b[0marg\u001b[0m \u001b[1;32mfor\u001b[0m \u001b[0mk\u001b[0m\u001b[1;33m,\u001b[0m \u001b[0marg\u001b[0m \u001b[1;32min\u001b[0m \u001b[0mzip\u001b[0m\u001b[1;33m(\u001b[0m\u001b[0msig\u001b[0m\u001b[1;33m.\u001b[0m\u001b[0mparameters\u001b[0m\u001b[1;33m,\u001b[0m \u001b[0margs\u001b[0m\u001b[1;33m)\u001b[0m\u001b[1;33m}\u001b[0m\u001b[1;33m)\u001b[0m\u001b[1;33m\u001b[0m\u001b[1;33m\u001b[0m\u001b[0m\n\u001b[1;32m---> 72\u001b[1;33m         \u001b[1;32mreturn\u001b[0m \u001b[0mf\u001b[0m\u001b[1;33m(\u001b[0m\u001b[1;33m**\u001b[0m\u001b[0mkwargs\u001b[0m\u001b[1;33m)\u001b[0m\u001b[1;33m\u001b[0m\u001b[1;33m\u001b[0m\u001b[0m\n\u001b[0m\u001b[0;32m     73\u001b[0m     \u001b[1;32mreturn\u001b[0m \u001b[0minner_f\u001b[0m\u001b[1;33m\u001b[0m\u001b[1;33m\u001b[0m\u001b[0m\n\u001b[0;32m     74\u001b[0m \u001b[1;33m\u001b[0m\u001b[0m\n",
      "\u001b[1;32m~\\anaconda3\\lib\\site-packages\\sklearn\\utils\\validation.py\u001b[0m in \u001b[0;36mcheck_array\u001b[1;34m(array, accept_sparse, accept_large_sparse, dtype, order, copy, force_all_finite, ensure_2d, allow_nd, ensure_min_samples, ensure_min_features, estimator)\u001b[0m\n\u001b[0;32m    573\u001b[0m     \u001b[1;32mif\u001b[0m \u001b[0msp\u001b[0m\u001b[1;33m.\u001b[0m\u001b[0missparse\u001b[0m\u001b[1;33m(\u001b[0m\u001b[0marray\u001b[0m\u001b[1;33m)\u001b[0m\u001b[1;33m:\u001b[0m\u001b[1;33m\u001b[0m\u001b[1;33m\u001b[0m\u001b[0m\n\u001b[0;32m    574\u001b[0m         \u001b[0m_ensure_no_complex_data\u001b[0m\u001b[1;33m(\u001b[0m\u001b[0marray\u001b[0m\u001b[1;33m)\u001b[0m\u001b[1;33m\u001b[0m\u001b[1;33m\u001b[0m\u001b[0m\n\u001b[1;32m--> 575\u001b[1;33m         array = _ensure_sparse_format(array, accept_sparse=accept_sparse,\n\u001b[0m\u001b[0;32m    576\u001b[0m                                       \u001b[0mdtype\u001b[0m\u001b[1;33m=\u001b[0m\u001b[0mdtype\u001b[0m\u001b[1;33m,\u001b[0m \u001b[0mcopy\u001b[0m\u001b[1;33m=\u001b[0m\u001b[0mcopy\u001b[0m\u001b[1;33m,\u001b[0m\u001b[1;33m\u001b[0m\u001b[1;33m\u001b[0m\u001b[0m\n\u001b[0;32m    577\u001b[0m                                       \u001b[0mforce_all_finite\u001b[0m\u001b[1;33m=\u001b[0m\u001b[0mforce_all_finite\u001b[0m\u001b[1;33m,\u001b[0m\u001b[1;33m\u001b[0m\u001b[1;33m\u001b[0m\u001b[0m\n",
      "\u001b[1;32m~\\anaconda3\\lib\\site-packages\\sklearn\\utils\\validation.py\u001b[0m in \u001b[0;36m_ensure_sparse_format\u001b[1;34m(spmatrix, accept_sparse, dtype, copy, force_all_finite, accept_large_sparse)\u001b[0m\n\u001b[0;32m    382\u001b[0m                           % spmatrix.format, stacklevel=2)\n\u001b[0;32m    383\u001b[0m         \u001b[1;32melse\u001b[0m\u001b[1;33m:\u001b[0m\u001b[1;33m\u001b[0m\u001b[1;33m\u001b[0m\u001b[0m\n\u001b[1;32m--> 384\u001b[1;33m             _assert_all_finite(spmatrix.data,\n\u001b[0m\u001b[0;32m    385\u001b[0m                                allow_nan=force_all_finite == 'allow-nan')\n\u001b[0;32m    386\u001b[0m \u001b[1;33m\u001b[0m\u001b[0m\n",
      "\u001b[1;32m~\\anaconda3\\lib\\site-packages\\sklearn\\utils\\validation.py\u001b[0m in \u001b[0;36m_assert_all_finite\u001b[1;34m(X, allow_nan, msg_dtype)\u001b[0m\n\u001b[0;32m     94\u001b[0m                 not allow_nan and not np.isfinite(X).all()):\n\u001b[0;32m     95\u001b[0m             \u001b[0mtype_err\u001b[0m \u001b[1;33m=\u001b[0m \u001b[1;34m'infinity'\u001b[0m \u001b[1;32mif\u001b[0m \u001b[0mallow_nan\u001b[0m \u001b[1;32melse\u001b[0m \u001b[1;34m'NaN, infinity'\u001b[0m\u001b[1;33m\u001b[0m\u001b[1;33m\u001b[0m\u001b[0m\n\u001b[1;32m---> 96\u001b[1;33m             raise ValueError(\n\u001b[0m\u001b[0;32m     97\u001b[0m                     \u001b[0mmsg_err\u001b[0m\u001b[1;33m.\u001b[0m\u001b[0mformat\u001b[0m\u001b[1;33m\u001b[0m\u001b[1;33m\u001b[0m\u001b[0m\n\u001b[0;32m     98\u001b[0m                     (type_err,\n",
      "\u001b[1;31mValueError\u001b[0m: Input contains NaN, infinity or a value too large for dtype('float64')."
     ]
    }
   ],
   "source": [
    "from sklearn.neighbors import NearestNeighbors\n",
    "\n",
    "model_knn = NearestNeighbors(metric = 'cosine', algorithm = 'brute')\n",
    "model_knn.fit(price_df_matrix)"
   ]
  },
  {
   "cell_type": "code",
   "execution_count": 38,
   "metadata": {},
   "outputs": [
    {
     "data": {
      "text/plain": [
       "(10, 5)"
      ]
     },
     "execution_count": 38,
     "metadata": {},
     "output_type": "execute_result"
    }
   ],
   "source": [
    "price_df_matrix.shape"
   ]
  },
  {
   "cell_type": "code",
   "execution_count": 39,
   "metadata": {},
   "outputs": [
    {
     "name": "stdout",
     "output_type": "stream",
     "text": [
      "8\n"
     ]
    }
   ],
   "source": [
    "query_index = np.random.choice(df.shape[0])\n",
    "print(query_index)\n",
    "distances, indices = model_knn.kneighbors(df.iloc[query_index,:].values.reshape(1, -1), n_neighbors = 6)"
   ]
  },
  {
   "cell_type": "code",
   "execution_count": 40,
   "metadata": {},
   "outputs": [
    {
     "name": "stdout",
     "output_type": "stream",
     "text": [
      "Recommendations for 9:\n",
      "\n",
      "1: 3, with distance of 3.2107730918440325e-09:\n",
      "2: 10, with distance of 1.7026326537550318e-07:\n",
      "3: 1, with distance of 1.7876714053510767e-07:\n",
      "4: 6, with distance of 1.9229526437847255e-07:\n",
      "5: 8, with distance of 1.9421046282275256e-07:\n"
     ]
    }
   ],
   "source": [
    "for i in range(0, len(distances.flatten())):\n",
    "    if i == 0:\n",
    "        print('Recommendations for {0}:\\n'.format(df.index[query_index]))\n",
    "    else:\n",
    "        print('{0}: {1}, with distance of {2}:'.format(i, df.index[indices.flatten()[i]], distances.flatten()[i]))"
   ]
  },
  {
   "cell_type": "code",
   "execution_count": null,
   "metadata": {},
   "outputs": [],
   "source": []
  },
  {
   "cell_type": "code",
   "execution_count": null,
   "metadata": {},
   "outputs": [],
   "source": []
  },
  {
   "cell_type": "code",
   "execution_count": null,
   "metadata": {},
   "outputs": [],
   "source": []
  },
  {
   "cell_type": "code",
   "execution_count": null,
   "metadata": {},
   "outputs": [],
   "source": []
  },
  {
   "cell_type": "code",
   "execution_count": null,
   "metadata": {},
   "outputs": [],
   "source": []
  },
  {
   "cell_type": "code",
   "execution_count": null,
   "metadata": {},
   "outputs": [],
   "source": []
  },
  {
   "cell_type": "code",
   "execution_count": null,
   "metadata": {},
   "outputs": [],
   "source": []
  },
  {
   "cell_type": "code",
   "execution_count": null,
   "metadata": {},
   "outputs": [],
   "source": []
  },
  {
   "cell_type": "code",
   "execution_count": null,
   "metadata": {},
   "outputs": [],
   "source": []
  },
  {
   "cell_type": "code",
   "execution_count": null,
   "metadata": {},
   "outputs": [],
   "source": []
  },
  {
   "cell_type": "code",
   "execution_count": null,
   "metadata": {},
   "outputs": [],
   "source": []
  },
  {
   "cell_type": "code",
   "execution_count": null,
   "metadata": {},
   "outputs": [],
   "source": []
  },
  {
   "cell_type": "code",
   "execution_count": null,
   "metadata": {},
   "outputs": [],
   "source": []
  },
  {
   "cell_type": "code",
   "execution_count": null,
   "metadata": {},
   "outputs": [],
   "source": []
  },
  {
   "cell_type": "code",
   "execution_count": null,
   "metadata": {},
   "outputs": [],
   "source": []
  },
  {
   "cell_type": "code",
   "execution_count": null,
   "metadata": {},
   "outputs": [],
   "source": []
  },
  {
   "cell_type": "code",
   "execution_count": null,
   "metadata": {},
   "outputs": [],
   "source": []
  },
  {
   "cell_type": "code",
   "execution_count": null,
   "metadata": {},
   "outputs": [],
   "source": []
  },
  {
   "cell_type": "code",
   "execution_count": null,
   "metadata": {},
   "outputs": [],
   "source": []
  },
  {
   "cell_type": "code",
   "execution_count": null,
   "metadata": {},
   "outputs": [],
   "source": []
  },
  {
   "cell_type": "code",
   "execution_count": null,
   "metadata": {},
   "outputs": [],
   "source": []
  },
  {
   "cell_type": "code",
   "execution_count": null,
   "metadata": {},
   "outputs": [],
   "source": []
  },
  {
   "cell_type": "code",
   "execution_count": null,
   "metadata": {},
   "outputs": [],
   "source": []
  },
  {
   "cell_type": "code",
   "execution_count": null,
   "metadata": {},
   "outputs": [],
   "source": []
  },
  {
   "cell_type": "code",
   "execution_count": null,
   "metadata": {},
   "outputs": [],
   "source": []
  },
  {
   "cell_type": "code",
   "execution_count": null,
   "metadata": {},
   "outputs": [],
   "source": []
  },
  {
   "cell_type": "code",
   "execution_count": null,
   "metadata": {},
   "outputs": [],
   "source": []
  },
  {
   "cell_type": "code",
   "execution_count": null,
   "metadata": {},
   "outputs": [],
   "source": []
  },
  {
   "cell_type": "code",
   "execution_count": null,
   "metadata": {},
   "outputs": [],
   "source": []
  },
  {
   "cell_type": "code",
   "execution_count": null,
   "metadata": {},
   "outputs": [],
   "source": []
  },
  {
   "cell_type": "code",
   "execution_count": null,
   "metadata": {},
   "outputs": [],
   "source": []
  },
  {
   "cell_type": "code",
   "execution_count": null,
   "metadata": {},
   "outputs": [],
   "source": []
  },
  {
   "cell_type": "code",
   "execution_count": null,
   "metadata": {},
   "outputs": [],
   "source": []
  },
  {
   "cell_type": "code",
   "execution_count": null,
   "metadata": {},
   "outputs": [],
   "source": []
  },
  {
   "cell_type": "code",
   "execution_count": null,
   "metadata": {},
   "outputs": [],
   "source": []
  },
  {
   "cell_type": "code",
   "execution_count": null,
   "metadata": {},
   "outputs": [],
   "source": []
  },
  {
   "cell_type": "code",
   "execution_count": null,
   "metadata": {},
   "outputs": [],
   "source": []
  },
  {
   "cell_type": "code",
   "execution_count": null,
   "metadata": {},
   "outputs": [],
   "source": []
  },
  {
   "cell_type": "code",
   "execution_count": null,
   "metadata": {},
   "outputs": [],
   "source": []
  },
  {
   "cell_type": "code",
   "execution_count": null,
   "metadata": {},
   "outputs": [],
   "source": []
  },
  {
   "cell_type": "code",
   "execution_count": null,
   "metadata": {},
   "outputs": [],
   "source": []
  },
  {
   "cell_type": "code",
   "execution_count": null,
   "metadata": {},
   "outputs": [],
   "source": []
  },
  {
   "cell_type": "code",
   "execution_count": null,
   "metadata": {},
   "outputs": [],
   "source": []
  },
  {
   "cell_type": "code",
   "execution_count": null,
   "metadata": {},
   "outputs": [],
   "source": []
  },
  {
   "cell_type": "code",
   "execution_count": null,
   "metadata": {},
   "outputs": [],
   "source": []
  },
  {
   "cell_type": "code",
   "execution_count": null,
   "metadata": {},
   "outputs": [],
   "source": []
  },
  {
   "cell_type": "code",
   "execution_count": null,
   "metadata": {},
   "outputs": [],
   "source": []
  },
  {
   "cell_type": "code",
   "execution_count": null,
   "metadata": {},
   "outputs": [],
   "source": []
  },
  {
   "cell_type": "code",
   "execution_count": null,
   "metadata": {},
   "outputs": [],
   "source": []
  },
  {
   "cell_type": "code",
   "execution_count": null,
   "metadata": {},
   "outputs": [],
   "source": []
  },
  {
   "cell_type": "code",
   "execution_count": null,
   "metadata": {},
   "outputs": [],
   "source": []
  },
  {
   "cell_type": "code",
   "execution_count": null,
   "metadata": {},
   "outputs": [],
   "source": []
  },
  {
   "cell_type": "code",
   "execution_count": null,
   "metadata": {},
   "outputs": [],
   "source": []
  },
  {
   "cell_type": "code",
   "execution_count": null,
   "metadata": {},
   "outputs": [],
   "source": []
  },
  {
   "cell_type": "code",
   "execution_count": null,
   "metadata": {},
   "outputs": [],
   "source": []
  },
  {
   "cell_type": "code",
   "execution_count": null,
   "metadata": {},
   "outputs": [],
   "source": []
  },
  {
   "cell_type": "code",
   "execution_count": null,
   "metadata": {},
   "outputs": [],
   "source": []
  },
  {
   "cell_type": "code",
   "execution_count": null,
   "metadata": {},
   "outputs": [],
   "source": []
  }
 ],
 "metadata": {
  "kernelspec": {
   "display_name": "Python 3",
   "language": "python",
   "name": "python3"
  },
  "language_info": {
   "codemirror_mode": {
    "name": "ipython",
    "version": 3
   },
   "file_extension": ".py",
   "mimetype": "text/x-python",
   "name": "python",
   "nbconvert_exporter": "python",
   "pygments_lexer": "ipython3",
   "version": "3.8.5"
  }
 },
 "nbformat": 4,
 "nbformat_minor": 4
}
